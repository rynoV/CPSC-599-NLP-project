{
  "cells": [
    {
      "attachments": {},
      "cell_type": "markdown",
      "metadata": {},
      "source": [
        "# CPSC 599 NLP Project Experimentation\n",
        "\n",
        "**Author:** 30093813\n"
      ]
    },
    {
      "cell_type": "code",
      "execution_count": 1,
      "metadata": {
        "vscode": {
          "languageId": "python"
        }
      },
      "outputs": [],
      "source": [
        "from util import change_extension, sliding_window\n",
        "from collections import defaultdict, Counter\n",
        "from urllib.parse import urlparse, urlunparse\n",
        "import nltk\n",
        "import spacy\n",
        "from spacy.tokens import Token, DocBin\n",
        "from spacy import displacy\n",
        "import numpy as np\n",
        "import en_core_web_sm\n",
        "import re\n",
        "import json\n",
        "import os\n",
        "import glob\n",
        "import components\n",
        "import pandas as pd\n"
      ]
    },
    {
      "attachments": {},
      "cell_type": "markdown",
      "metadata": {},
      "source": [
        "## Evaluating trained model\n"
      ]
    },
    {
      "cell_type": "code",
      "execution_count": 85,
      "metadata": {
        "vscode": {
          "languageId": "python"
        }
      },
      "outputs": [
        {
          "name": "stdout",
          "output_type": "stream",
          "text": [
            "['transformer', 'spancat']\n",
            "['transformer', 'spancat']\n",
            "\u001b[1m\n",
            "============================= Pipeline Overview =============================\u001b[0m\n",
            "\n",
            "#   Component     Assigns          Requires   Scores       Retokenizes\n",
            "-   -----------   --------------   --------   ----------   -----------\n",
            "0   transformer   doc._.trf_data                           False      \n",
            "                                                                      \n",
            "1   spancat       doc.spans                   spans_sc_f   False      \n",
            "                                              spans_sc_p              \n",
            "                                              spans_sc_r              \n",
            "\n",
            "\u001b[38;5;2m✔ No problems found.\u001b[0m\n",
            "\n"
          ]
        }
      ],
      "source": [
        "trained = spacy.load(\"./packages/en_pipeline-0.0.8/en_pipeline/en_pipeline-0.0.8/\")\n",
        "print(trained.pipe_names)\n",
        "print(trained.component_names)\n",
        "trained.analyze_pipes(pretty=True)\n",
        "print()"
      ]
    },
    {
      "cell_type": "code",
      "execution_count": 5,
      "metadata": {
        "vscode": {
          "languageId": "python"
        }
      },
      "outputs": [],
      "source": [
        "exs = ['One needs to fit the model to the data.', 'Refer to the glossary'\n",
        "       , 'This was provided by Thomas Fan'\n",
        "       , 'To provide a good fit the model needs to be trained.'\n",
        "       , 'A pipeline can be used to improve the model by using cross validation.'\n",
        "       , 'This is referred to as a warm start'\n",
        "       , 'In classification the model is trained to predict a number of classes'\n",
        "       , 'Classification algorithms usually also offer a way to quantify certainty of a prediction, either using decision_function or predict_proba'\n",
        "       , 'All built-in estimators also have a set_params method, which sets data-independent parameters (overriding previous parameter values passed to __init__).'\n",
        "       , 'y might be ignored in the case of unsupervised learning. However, to make it possible to use the estimator as part of a pipeline that can mix both supervised and unsupervised transformers, even unsupervised estimators need to accept a y=None keyword argument in the second position that is just ignored by the estimator.'\n",
        "       , 'When fit is called, any previous call to fit should be ignored. In general, calling estimator.fit(X1) and then estimator.fit(X2) should be the same as only calling estimator.fit(X2). However, this may not be true in practice when fit depends on some random process, see random_state. Another exception to this rule is when the hyper-parameter warm_start is set to True for estimators that support it.'\n",
        "       , 'Attributes that have been estimated from the data must always have a name ending with trailing underscore, for example the coefficients of some regression estimator would be stored in a coef_ attribute after fit has been called.'\n",
        "       , 'Often, the subestimator has a name (as e.g. named steps in a Pipeline object), in which case the key should become <name>__C, <name>__class_weight, etc.'\n",
        "       , 'Often, the subestimator has a name (as e.g. named steps in Pipeline objects), in which case the key should become <name>__C, <name>__class_weight, etc.'\n",
        "       , 'For an estimator to be usable together with pipeline.Pipeline in any but the last step, it needs to provide a fit or fit_transform function. To be able to evaluate the pipeline on any data but the training set, it also needs to provide a transform function. There are no special requirements for the last step in a pipeline, except that it has a fit function. All fit and fit_transform functions must take arguments X, y, even if y is not used. Similarly, for score to be usable, the last step of the pipeline needs to have a score function that accepts an optional y.'\n",
        "       , 'In a Pipeline object you can use GridSearchCV or RandomForestClassifier'\n",
        "       , 'Whether you are proposing an estimator for inclusion in scikit-learn, developing a separate package compatible with scikit-learn, or implementing custom components for your own projects, this chapter details how to develop objects that safely interact with scikit-learn Pipelines and model selection tools.'\n",
        "       , 'The base object, implements a fit method to learn from data'\n",
        "       , 'Elements of the scikit-learn API are described more definitively in the Glossary of Common Terms and API Elements.']\n",
        "# for doc in trained.pipe(exs):\n",
        "#     show_spans(doc)\n",
        "#     print()"
      ]
    },
    {
      "cell_type": "code",
      "execution_count": 86,
      "metadata": {
        "vscode": {
          "languageId": "python"
        }
      },
      "outputs": [
        {
          "data": {
            "text/html": [
              "<span class=\"tex2jax_ignore\"><div class=\"spans\" style=\"line-height: 2.5; direction: ltr\">The clothes need to fit you well . </div>\n",
              "\n",
              "<div class=\"spans\" style=\"line-height: 2.5; direction: ltr\">The estimator must support fit and transform . Note that using this feature requires that the DataFrame columns input at \n",
              "<span style=\"font-weight: bold; display: inline-block; position: relative; height: 60px;\">\n",
              "    fit\n",
              "    \n",
              "<span style=\"background: #ddd; top: 40px; height: 4px; left: -1px; width: calc(100% + 2px); position: absolute;\">\n",
              "</span>\n",
              "\n",
              "    \n",
              "<span style=\"background: #ddd; top: 40px; height: 4px; border-top-left-radius: 3px; border-bottom-left-radius: 3px; left: -1px; width: calc(100% + 2px); position: absolute;\">\n",
              "    <span style=\"background: #ddd; z-index: 10; color: #000; top: -0.5em; padding: 2px 3px; position: absolute; font-size: 0.6em; font-weight: bold; line-height: 1; border-radius: 3px\">\n",
              "        #term-fit\n",
              "    </span>\n",
              "</span>\n",
              "\n",
              "\n",
              "</span>\n",
              "and transform have identical order . </div>\n",
              "\n",
              "<div class=\"spans\" style=\"line-height: 2.5; direction: ltr\">Note that using this feature requires that the DataFrame columns input at fit and transform have identical order . </div>\n",
              "\n",
              "<div class=\"spans\" style=\"line-height: 2.5; direction: ltr\">estimator . Note that using this feature requires that the DataFrame columns input at \n",
              "<span style=\"font-weight: bold; display: inline-block; position: relative; height: 60px;\">\n",
              "    fit\n",
              "    \n",
              "<span style=\"background: #ddd; top: 40px; height: 4px; left: -1px; width: calc(100% + 2px); position: absolute;\">\n",
              "</span>\n",
              "\n",
              "    \n",
              "<span style=\"background: #ddd; top: 40px; height: 4px; border-top-left-radius: 3px; border-bottom-left-radius: 3px; left: -1px; width: calc(100% + 2px); position: absolute;\">\n",
              "    <span style=\"background: #ddd; z-index: 10; color: #000; top: -0.5em; padding: 2px 3px; position: absolute; font-size: 0.6em; font-weight: bold; line-height: 1; border-radius: 3px\">\n",
              "        #term-fit\n",
              "    </span>\n",
              "</span>\n",
              "\n",
              "\n",
              "</span>\n",
              "and transform have identical order . </div>\n",
              "\n",
              "<div class=\"spans\" style=\"line-height: 2.5; direction: ltr\">The clothes need to fit you well , you should use an \n",
              "<span style=\"font-weight: bold; display: inline-block; position: relative; height: 60px;\">\n",
              "    estimator\n",
              "    \n",
              "<span style=\"background: #ddd; top: 40px; height: 4px; left: -1px; width: calc(100% + 2px); position: absolute;\">\n",
              "</span>\n",
              "\n",
              "    \n",
              "<span style=\"background: #ddd; top: 40px; height: 4px; border-top-left-radius: 3px; border-bottom-left-radius: 3px; left: -1px; width: calc(100% + 2px); position: absolute;\">\n",
              "    <span style=\"background: #ddd; z-index: 10; color: #000; top: -0.5em; padding: 2px 3px; position: absolute; font-size: 0.6em; font-weight: bold; line-height: 1; border-radius: 3px\">\n",
              "        modules/generated/sklearn.utils.estimator_checks.check_estimator.html#sklearn.utils.estimator_checks.check_estimator\n",
              "    </span>\n",
              "</span>\n",
              "\n",
              "\n",
              "</span>\n",
              ". </div></span>"
            ],
            "text/plain": [
              "<IPython.core.display.HTML object>"
            ]
          },
          "metadata": {},
          "output_type": "display_data"
        }
      ],
      "source": [
        "doc1 = trained('The clothes need to fit you well.')\n",
        "doc2 = trained('The estimator must support fit and transform. Note that using this feature requires that the DataFrame columns input at fit and transform have identical order.')\n",
        "doc3 = trained('Note that using this feature requires that the DataFrame columns input at fit and transform have identical order.')\n",
        "doc4 = trained('estimator. Note that using this feature requires that the DataFrame columns input at fit and transform have identical order.')\n",
        "doc5 = trained('The clothes need to fit you well, you should use an estimator.')\n",
        "\n",
        "displacy.render([doc1, doc2, doc3, doc4, doc5], style='span', options={'spans_key': 'sc'})"
      ]
    },
    {
      "cell_type": "code",
      "execution_count": 83,
      "metadata": {
        "vscode": {
          "languageId": "python"
        }
      },
      "outputs": [
        {
          "name": "stderr",
          "output_type": "stream",
          "text": [
            "/home/calum/code/CPSC_599-NLP/project/.direnv/python-3.10.10/lib/python3.10/site-packages/spacy/displacy/__init__.py:242: UserWarning: [W117] No spans to visualize found in Doc object with spans_key: 'sc'. If this is surprising to you, make sure the Doc was processed using a model that supports span categorization, and check the `doc.spans[spans_key]` property manually if necessary.\n",
            "\n",
            "Available keys: ['sc']\n",
            "  warnings.warn(Warnings.W117.format(spans_key=spans_key, keys=keys))\n"
          ]
        },
        {
          "data": {
            "text/html": [
              "<span class=\"tex2jax_ignore\"><div class=\"spans\" style=\"line-height: 2.5; direction: ltr\">\n",
              "<span style=\"font-weight: bold; display: inline-block; position: relative; height: 60px;\">\n",
              "    Adrin\n",
              "    \n",
              "<span style=\"background: #ddd; top: 40px; height: 4px; left: -1px; width: calc(100% + 2px); position: absolute;\">\n",
              "</span>\n",
              "\n",
              "    \n",
              "<span style=\"background: #ddd; top: 40px; height: 4px; border-top-left-radius: 3px; border-bottom-left-radius: 3px; left: -1px; width: calc(100% + 2px); position: absolute;\">\n",
              "    <span style=\"background: #ddd; z-index: 10; color: #000; top: -0.5em; padding: 2px 3px; position: absolute; font-size: 0.6em; font-weight: bold; line-height: 1; border-radius: 3px\">\n",
              "        https://github.com/adrinjalali\n",
              "    </span>\n",
              "</span>\n",
              "\n",
              "\n",
              "</span>\n",
              "\n",
              "<span style=\"font-weight: bold; display: inline-block; position: relative; height: 60px;\">\n",
              "    Jalali\n",
              "    \n",
              "<span style=\"background: #ddd; top: 40px; height: 4px; left: -1px; width: calc(100% + 2px); position: absolute;\">\n",
              "</span>\n",
              "\n",
              "    \n",
              "</span>\n",
              "</div>\n",
              "\n",
              "<div class=\"spans\" style=\"line-height: 2.5; direction: ltr\">jasdnvjlksnweoiurfhincvnjdasklfhu Adrin Jalali asjdfnljkdsnjlkwenfjwelfnjkldsaf </div>\n",
              "\n",
              "<div class=\"spans\" style=\"line-height: 2.5; direction: ltr\">Jalali </div>\n",
              "\n",
              "<div class=\"spans\" style=\"line-height: 2.5; direction: ltr\">Adrin </div>\n",
              "\n",
              "<div class=\"spans\" style=\"line-height: 2.5; direction: ltr\">\n",
              "<span style=\"font-weight: bold; display: inline-block; position: relative; height: 60px;\">\n",
              "    Adrin\n",
              "    \n",
              "<span style=\"background: #ddd; top: 40px; height: 4px; left: -1px; width: calc(100% + 2px); position: absolute;\">\n",
              "</span>\n",
              "\n",
              "    \n",
              "<span style=\"background: #ddd; top: 40px; height: 4px; border-top-left-radius: 3px; border-bottom-left-radius: 3px; left: -1px; width: calc(100% + 2px); position: absolute;\">\n",
              "    <span style=\"background: #ddd; z-index: 10; color: #000; top: -0.5em; padding: 2px 3px; position: absolute; font-size: 0.6em; font-weight: bold; line-height: 1; border-radius: 3px\">\n",
              "        https://github.com/adrinjalali\n",
              "    </span>\n",
              "</span>\n",
              "\n",
              "\n",
              "</span>\n",
              "\n",
              "<span style=\"font-weight: bold; display: inline-block; position: relative; height: 60px;\">\n",
              "    F.\n",
              "    \n",
              "<span style=\"background: #ddd; top: 40px; height: 4px; left: -1px; width: calc(100% + 2px); position: absolute;\">\n",
              "</span>\n",
              "\n",
              "    \n",
              "</span>\n",
              "\n",
              "<span style=\"font-weight: bold; display: inline-block; position: relative; height: 60px;\">\n",
              "    Jalali\n",
              "    \n",
              "<span style=\"background: #ddd; top: 40px; height: 4px; left: -1px; width: calc(100% + 2px); position: absolute;\">\n",
              "</span>\n",
              "\n",
              "    \n",
              "</span>\n",
              "did something </div>\n",
              "\n",
              "<div class=\"spans\" style=\"line-height: 2.5; direction: ltr\">Jalali Adrin </div>\n",
              "\n",
              "<div class=\"spans\" style=\"line-height: 2.5; direction: ltr\">A bunch of nonsense Adrin Jalali never seen before in the docs </div>\n",
              "\n",
              "<div class=\"spans\" style=\"line-height: 2.5; direction: ltr\">A bunch of nonsense Adrin Jalali has never seen before in the docs </div>\n",
              "\n",
              "<div class=\"spans\" style=\"line-height: 2.5; direction: ltr\">Adrin Jalali did something again in sklearn </div>\n",
              "\n",
              "<div class=\"spans\" style=\"line-height: 2.5; direction: ltr\">Adrin Jalali did something again in sklearn by \n",
              "<span style=\"font-weight: bold; display: inline-block; position: relative; height: 60px;\">\n",
              "    Adrin\n",
              "    \n",
              "<span style=\"background: #ddd; top: 40px; height: 4px; left: -1px; width: calc(100% + 2px); position: absolute;\">\n",
              "</span>\n",
              "\n",
              "    \n",
              "<span style=\"background: #ddd; top: 40px; height: 4px; border-top-left-radius: 3px; border-bottom-left-radius: 3px; left: -1px; width: calc(100% + 2px); position: absolute;\">\n",
              "    <span style=\"background: #ddd; z-index: 10; color: #000; top: -0.5em; padding: 2px 3px; position: absolute; font-size: 0.6em; font-weight: bold; line-height: 1; border-radius: 3px\">\n",
              "        https://github.com/adrinjalali\n",
              "    </span>\n",
              "</span>\n",
              "\n",
              "\n",
              "</span>\n",
              "\n",
              "<span style=\"font-weight: bold; display: inline-block; position: relative; height: 60px;\">\n",
              "    Jalali\n",
              "    \n",
              "<span style=\"background: #ddd; top: 40px; height: 4px; left: -1px; width: calc(100% + 2px); position: absolute;\">\n",
              "</span>\n",
              "\n",
              "    \n",
              "</span>\n",
              "</div>\n",
              "\n",
              "<div class=\"spans\" style=\"line-height: 2.5; direction: ltr\">Adrin Jalali and \n",
              "<span style=\"font-weight: bold; display: inline-block; position: relative; height: 60px;\">\n",
              "    Adrin\n",
              "    \n",
              "<span style=\"background: #ddd; top: 40px; height: 4px; left: -1px; width: calc(100% + 2px); position: absolute;\">\n",
              "</span>\n",
              "\n",
              "    \n",
              "<span style=\"background: #ddd; top: 40px; height: 4px; border-top-left-radius: 3px; border-bottom-left-radius: 3px; left: -1px; width: calc(100% + 2px); position: absolute;\">\n",
              "    <span style=\"background: #ddd; z-index: 10; color: #000; top: -0.5em; padding: 2px 3px; position: absolute; font-size: 0.6em; font-weight: bold; line-height: 1; border-radius: 3px\">\n",
              "        https://github.com/adrinjalali\n",
              "    </span>\n",
              "</span>\n",
              "\n",
              "\n",
              "</span>\n",
              "\n",
              "<span style=\"font-weight: bold; display: inline-block; position: relative; height: 60px;\">\n",
              "    Jalali\n",
              "    \n",
              "<span style=\"background: #ddd; top: 40px; height: 4px; left: -1px; width: calc(100% + 2px); position: absolute;\">\n",
              "</span>\n",
              "\n",
              "    \n",
              "</span>\n",
              "</div>\n",
              "\n",
              "<div class=\"spans\" style=\"line-height: 2.5; direction: ltr\">\n",
              "<span style=\"font-weight: bold; display: inline-block; position: relative; height: 60px;\">\n",
              "    Adrin\n",
              "    \n",
              "<span style=\"background: #ddd; top: 40px; height: 4px; left: -1px; width: calc(100% + 2px); position: absolute;\">\n",
              "</span>\n",
              "\n",
              "    \n",
              "<span style=\"background: #ddd; top: 40px; height: 4px; border-top-left-radius: 3px; border-bottom-left-radius: 3px; left: -1px; width: calc(100% + 2px); position: absolute;\">\n",
              "    <span style=\"background: #ddd; z-index: 10; color: #000; top: -0.5em; padding: 2px 3px; position: absolute; font-size: 0.6em; font-weight: bold; line-height: 1; border-radius: 3px\">\n",
              "        https://github.com/adrinjalali\n",
              "    </span>\n",
              "</span>\n",
              "\n",
              "\n",
              "</span>\n",
              "\n",
              "<span style=\"font-weight: bold; display: inline-block; position: relative; height: 60px;\">\n",
              "    Jlali\n",
              "    \n",
              "<span style=\"background: #ddd; top: 40px; height: 4px; left: -1px; width: calc(100% + 2px); position: absolute;\">\n",
              "</span>\n",
              "\n",
              "    \n",
              "</span>\n",
              "</div></span>"
            ],
            "text/plain": [
              "<IPython.core.display.HTML object>"
            ]
          },
          "metadata": {},
          "output_type": "display_data"
        }
      ],
      "source": [
        "tests = ['Adrin Jalali',\n",
        "         'jasdnvjlksnweoiurfhincvnjdasklfhu Adrin Jalali asjdfnljkdsnjlkwenfjwelfnjkldsaf',\n",
        "         'Jalali',\n",
        "         'Adrin',\n",
        "         'Adrin F. Jalali did something',\n",
        "         'Jalali Adrin',\n",
        "         'A bunch of nonsense Adrin Jalali never seen before in the docs',\n",
        "         'A bunch of nonsense Adrin Jalali has never seen before in the docs',\n",
        "         'Adrin Jalali did something again in sklearn',\n",
        "         'Adrin Jalali did something again in sklearn by Adrin Jalali',\n",
        "         'Adrin Jalali and Adrin Jalali',\n",
        "         'Adrin Jlali']\n",
        "\n",
        "displacy.render(list(trained.pipe(tests)), style='span', options={'spans_key': 'sc'})"
      ]
    },
    {
      "cell_type": "code",
      "execution_count": 45,
      "metadata": {
        "vscode": {
          "languageId": "python"
        }
      },
      "outputs": [],
      "source": [
        "db = DocBin().from_disk('data/split/test-15-33.spacy')\n",
        "docs = list(db.get_docs(trained.vocab))"
      ]
    },
    {
      "cell_type": "code",
      "execution_count": 46,
      "metadata": {
        "vscode": {
          "languageId": "python"
        }
      },
      "outputs": [],
      "source": [
        "from spacy.training import Example\n",
        "examples = [Example(predicted, reference) for predicted, reference in zip(trained.pipe(doc.text for doc in docs), docs)]"
      ]
    },
    {
      "cell_type": "code",
      "execution_count": 47,
      "metadata": {
        "vscode": {
          "languageId": "python"
        }
      },
      "outputs": [],
      "source": [
        "label_to_examples = defaultdict(list)\n",
        "for example in examples:\n",
        "    for s in example.reference.spans['sc']:\n",
        "        label_to_examples[s.label_].append(example)"
      ]
    },
    {
      "cell_type": "code",
      "execution_count": 48,
      "metadata": {
        "vscode": {
          "languageId": "python"
        }
      },
      "outputs": [],
      "source": [
        "train_db = DocBin().from_disk('data/split/train-15-33.spacy')\n",
        "train_docs = list(train_db.get_docs(trained.vocab))\n",
        "label_to_train = defaultdict(list)\n",
        "for doc in train_docs:\n",
        "    for s in doc.spans['sc']:\n",
        "        label_to_train[s.label_].append(doc)"
      ]
    },
    {
      "cell_type": "code",
      "execution_count": 49,
      "metadata": {
        "vscode": {
          "languageId": "python"
        }
      },
      "outputs": [],
      "source": [
        "test_counts = Counter(s.label_ for doc in docs for s in doc.spans['sc'])"
      ]
    },
    {
      "cell_type": "code",
      "execution_count": 50,
      "metadata": {
        "vscode": {
          "languageId": "python"
        }
      },
      "outputs": [
        {
          "data": {
            "text/html": [
              "<div>\n",
              "<style scoped>\n",
              "    .dataframe tbody tr th:only-of-type {\n",
              "        vertical-align: middle;\n",
              "    }\n",
              "\n",
              "    .dataframe tbody tr th {\n",
              "        vertical-align: top;\n",
              "    }\n",
              "\n",
              "    .dataframe thead th {\n",
              "        text-align: right;\n",
              "    }\n",
              "</style>\n",
              "<table border=\"1\" class=\"dataframe\">\n",
              "  <thead>\n",
              "    <tr style=\"text-align: right;\">\n",
              "      <th></th>\n",
              "      <th>p</th>\n",
              "      <th>r</th>\n",
              "      <th>f</th>\n",
              "      <th>support</th>\n",
              "    </tr>\n",
              "  </thead>\n",
              "  <tbody>\n",
              "    <tr>\n",
              "      <th>glossary.html#term-decision_function</th>\n",
              "      <td>0.500000</td>\n",
              "      <td>0.2</td>\n",
              "      <td>0.285714</td>\n",
              "      <td>5</td>\n",
              "    </tr>\n",
              "    <tr>\n",
              "      <th>https://twitter.com/ogrisel</th>\n",
              "      <td>0.500000</td>\n",
              "      <td>0.4</td>\n",
              "      <td>0.444444</td>\n",
              "      <td>5</td>\n",
              "    </tr>\n",
              "    <tr>\n",
              "      <th>modules/generated/sklearn.model_selection.gridsearchcv.html#sklearn.model_selection.gridsearchcv</th>\n",
              "      <td>0.500000</td>\n",
              "      <td>0.4</td>\n",
              "      <td>0.444444</td>\n",
              "      <td>5</td>\n",
              "    </tr>\n",
              "    <tr>\n",
              "      <th>generated/sklearn.pipeline.pipeline.html#sklearn.pipeline.pipeline</th>\n",
              "      <td>0.666667</td>\n",
              "      <td>0.4</td>\n",
              "      <td>0.500000</td>\n",
              "      <td>5</td>\n",
              "    </tr>\n",
              "    <tr>\n",
              "      <th>generated/sklearn.model_selection.gridsearchcv.html#sklearn.model_selection.gridsearchcv</th>\n",
              "      <td>0.428571</td>\n",
              "      <td>0.6</td>\n",
              "      <td>0.500000</td>\n",
              "      <td>5</td>\n",
              "    </tr>\n",
              "    <tr>\n",
              "      <th>...</th>\n",
              "      <td>...</td>\n",
              "      <td>...</td>\n",
              "      <td>...</td>\n",
              "      <td>...</td>\n",
              "    </tr>\n",
              "    <tr>\n",
              "      <th>modules/generated/sklearn.isotonic.isotonicregression.html#sklearn.isotonic.isotonicregression</th>\n",
              "      <td>1.000000</td>\n",
              "      <td>1.0</td>\n",
              "      <td>1.000000</td>\n",
              "      <td>5</td>\n",
              "    </tr>\n",
              "    <tr>\n",
              "      <th>http://www.ajoly.org</th>\n",
              "      <td>1.000000</td>\n",
              "      <td>1.0</td>\n",
              "      <td>1.000000</td>\n",
              "      <td>5</td>\n",
              "    </tr>\n",
              "    <tr>\n",
              "      <th>modules/generated/sklearn.decomposition.incrementalpca.html#sklearn.decomposition.incrementalpca</th>\n",
              "      <td>1.000000</td>\n",
              "      <td>1.0</td>\n",
              "      <td>1.000000</td>\n",
              "      <td>5</td>\n",
              "    </tr>\n",
              "    <tr>\n",
              "      <th>https://github.com/jeremiedbb</th>\n",
              "      <td>1.000000</td>\n",
              "      <td>1.0</td>\n",
              "      <td>1.000000</td>\n",
              "      <td>5</td>\n",
              "    </tr>\n",
              "    <tr>\n",
              "      <th>classes.html#module-sklearn.metrics</th>\n",
              "      <td>1.000000</td>\n",
              "      <td>1.0</td>\n",
              "      <td>1.000000</td>\n",
              "      <td>5</td>\n",
              "    </tr>\n",
              "  </tbody>\n",
              "</table>\n",
              "<p>89 rows × 4 columns</p>\n",
              "</div>"
            ],
            "text/plain": [
              "                                                           p    r         f   \n",
              "glossary.html#term-decision_function                0.500000  0.2  0.285714  \\\n",
              "https://twitter.com/ogrisel                         0.500000  0.4  0.444444   \n",
              "modules/generated/sklearn.model_selection.grids...  0.500000  0.4  0.444444   \n",
              "generated/sklearn.pipeline.pipeline.html#sklear...  0.666667  0.4  0.500000   \n",
              "generated/sklearn.model_selection.gridsearchcv....  0.428571  0.6  0.500000   \n",
              "...                                                      ...  ...       ...   \n",
              "modules/generated/sklearn.isotonic.isotonicregr...  1.000000  1.0  1.000000   \n",
              "http://www.ajoly.org                                1.000000  1.0  1.000000   \n",
              "modules/generated/sklearn.decomposition.increme...  1.000000  1.0  1.000000   \n",
              "https://github.com/jeremiedbb                       1.000000  1.0  1.000000   \n",
              "classes.html#module-sklearn.metrics                 1.000000  1.0  1.000000   \n",
              "\n",
              "                                                    support  \n",
              "glossary.html#term-decision_function                      5  \n",
              "https://twitter.com/ogrisel                               5  \n",
              "modules/generated/sklearn.model_selection.grids...        5  \n",
              "generated/sklearn.pipeline.pipeline.html#sklear...        5  \n",
              "generated/sklearn.model_selection.gridsearchcv....        5  \n",
              "...                                                     ...  \n",
              "modules/generated/sklearn.isotonic.isotonicregr...        5  \n",
              "http://www.ajoly.org                                      5  \n",
              "modules/generated/sklearn.decomposition.increme...        5  \n",
              "https://github.com/jeremiedbb                             5  \n",
              "classes.html#module-sklearn.metrics                       5  \n",
              "\n",
              "[89 rows x 4 columns]"
            ]
          },
          "execution_count": 50,
          "metadata": {},
          "output_type": "execute_result"
        }
      ],
      "source": [
        "from spacy.scorer import Scorer\n",
        "\n",
        "attr_prefix = 'spans_'\n",
        "scores = Scorer.score_spans(examples, attr=f'{attr_prefix}sc', getter=lambda doc, key: doc.spans.get(key[len(attr_prefix) :], []))\n",
        "scores = pd.DataFrame(scores['spans_sc_per_type']).T.sort_values('f')\n",
        "scores['support'] = scores.index.map(test_counts)\n",
        "scores"
      ]
    },
    {
      "cell_type": "code",
      "execution_count": 43,
      "metadata": {
        "vscode": {
          "languageId": "python"
        }
      },
      "outputs": [],
      "source": [
        "# scores.to_csv(os.path.join('output', 'model-best9', 'results.csv'))"
      ]
    },
    {
      "cell_type": "code",
      "execution_count": 53,
      "metadata": {
        "vscode": {
          "languageId": "python"
        }
      },
      "outputs": [],
      "source": [
        "def show_preds(label):\n",
        "    for ex in label_to_train[label]:\n",
        "        ex.user_data['title'] = f'Train doc {ex.user_data[\"file\"]}'\n",
        "        displacy.render([ex], style='span', options={'spans_key': 'sc'})\n",
        "    for ex in label_to_examples[label]:\n",
        "        ex.reference.user_data['title'] = f'Reference {ex.reference.user_data[\"file\"]}'\n",
        "        ex.predicted.user_data['title'] = f'Predicted {ex.reference.user_data[\"file\"]}'\n",
        "        displacy.render([ex.reference, ex.predicted], style='span', options={'spans_key': 'sc'})"
      ]
    },
    {
      "cell_type": "code",
      "execution_count": 84,
      "metadata": {
        "vscode": {
          "languageId": "python"
        }
      },
      "outputs": [
        {
          "data": {
            "text/html": [
              "<span class=\"tex2jax_ignore\"><h2 style=\"margin: 0\">Train doc data/html/processed/whats_new/v0.19.txt</h2>\n",
              "\n",
              "<div class=\"spans\" style=\"line-height: 2.5; direction: ltr\">LassoLars   ( bug fix ) \n",
              "\n",
              " -     linear_model . LassoLarsIC   ( bug fix ) \n",
              "\n",
              " -     \n",
              "<span style=\"font-weight: bold; display: inline-block; position: relative; height: 60px;\">\n",
              "    manifold\n",
              "    \n",
              "<span style=\"background: #ddd; top: 40px; height: 4px; left: -1px; width: calc(100% + 2px); position: absolute;\">\n",
              "</span>\n",
              "\n",
              "    \n",
              "<span style=\"background: #ddd; top: 40px; height: 4px; border-top-left-radius: 3px; border-bottom-left-radius: 3px; left: -1px; width: calc(100% + 2px); position: absolute;\">\n",
              "    <span style=\"background: #ddd; z-index: 10; color: #000; top: -0.5em; padding: 2px 3px; position: absolute; font-size: 0.6em; font-weight: bold; line-height: 1; border-radius: 3px\">\n",
              "        modules/generated/sklearn.manifold.tsne.html#sklearn.manifold.tsne\n",
              "    </span>\n",
              "</span>\n",
              "\n",
              "\n",
              "</span>\n",
              "\n",
              "<span style=\"font-weight: bold; display: inline-block; position: relative; height: 60px;\">\n",
              "    .\n",
              "    \n",
              "<span style=\"background: #ddd; top: 40px; height: 4px; left: -1px; width: calc(100% + 2px); position: absolute;\">\n",
              "</span>\n",
              "\n",
              "    \n",
              "</span>\n",
              "\n",
              "<span style=\"font-weight: bold; display: inline-block; position: relative; height: 60px;\">\n",
              "    TSNE\n",
              "    \n",
              "<span style=\"background: #ddd; top: 40px; height: 4px; left: -1px; width: calc(100% + 2px); position: absolute;\">\n",
              "</span>\n",
              "\n",
              "    \n",
              "</span>\n",
              "  ( bug fix ) \n",
              "\n",
              " -     neighbors . </div></span>"
            ],
            "text/plain": [
              "<IPython.core.display.HTML object>"
            ]
          },
          "metadata": {},
          "output_type": "display_data"
        },
        {
          "data": {
            "text/html": [
              "<span class=\"tex2jax_ignore\"><h2 style=\"margin: 0\">Train doc data/html/processed/whats_new/v0.19.txt</h2>\n",
              "\n",
              "<div class=\"spans\" style=\"line-height: 2.5; direction: ltr\">  # 9277   by   @hongkahjun . \n",
              "\n",
              " -    Memory improvements for method barnes_hut in   \n",
              "<span style=\"font-weight: bold; display: inline-block; position: relative; height: 60px;\">\n",
              "    manifold\n",
              "    \n",
              "<span style=\"background: #ddd; top: 40px; height: 4px; left: -1px; width: calc(100% + 2px); position: absolute;\">\n",
              "</span>\n",
              "\n",
              "    \n",
              "<span style=\"background: #ddd; top: 40px; height: 4px; border-top-left-radius: 3px; border-bottom-left-radius: 3px; left: -1px; width: calc(100% + 2px); position: absolute;\">\n",
              "    <span style=\"background: #ddd; z-index: 10; color: #000; top: -0.5em; padding: 2px 3px; position: absolute; font-size: 0.6em; font-weight: bold; line-height: 1; border-radius: 3px\">\n",
              "        modules/generated/sklearn.manifold.tsne.html#sklearn.manifold.tsne\n",
              "    </span>\n",
              "</span>\n",
              "\n",
              "\n",
              "</span>\n",
              "\n",
              "<span style=\"font-weight: bold; display: inline-block; position: relative; height: 60px;\">\n",
              "    .\n",
              "    \n",
              "<span style=\"background: #ddd; top: 40px; height: 4px; left: -1px; width: calc(100% + 2px); position: absolute;\">\n",
              "</span>\n",
              "\n",
              "    \n",
              "</span>\n",
              "\n",
              "<span style=\"font-weight: bold; display: inline-block; position: relative; height: 60px;\">\n",
              "    TSNE\n",
              "    \n",
              "<span style=\"background: #ddd; top: 40px; height: 4px; left: -1px; width: calc(100% + 2px); position: absolute;\">\n",
              "</span>\n",
              "\n",
              "    \n",
              "</span>\n",
              "   # 7089   by   Thomas Moreau   and   \n",
              "<span style=\"font-weight: bold; display: inline-block; position: relative; height: 60px;\">\n",
              "    Olivier\n",
              "    \n",
              "<span style=\"background: #ddd; top: 40px; height: 4px; left: -1px; width: calc(100% + 2px); position: absolute;\">\n",
              "</span>\n",
              "\n",
              "    \n",
              "<span style=\"background: #ddd; top: 40px; height: 4px; border-top-left-radius: 3px; border-bottom-left-radius: 3px; left: -1px; width: calc(100% + 2px); position: absolute;\">\n",
              "    <span style=\"background: #ddd; z-index: 10; color: #000; top: -0.5em; padding: 2px 3px; position: absolute; font-size: 0.6em; font-weight: bold; line-height: 1; border-radius: 3px\">\n",
              "        https://twitter.com/ogrisel\n",
              "    </span>\n",
              "</span>\n",
              "\n",
              "\n",
              "</span>\n",
              "\n",
              "<span style=\"font-weight: bold; display: inline-block; position: relative; height: 60px;\">\n",
              "    Grisel\n",
              "    \n",
              "<span style=\"background: #ddd; top: 40px; height: 4px; left: -1px; width: calc(100% + 2px); position: absolute;\">\n",
              "</span>\n",
              "\n",
              "    \n",
              "</span>\n",
              ". </div></span>"
            ],
            "text/plain": [
              "<IPython.core.display.HTML object>"
            ]
          },
          "metadata": {},
          "output_type": "display_data"
        },
        {
          "data": {
            "text/html": [
              "<span class=\"tex2jax_ignore\"><h2 style=\"margin: 0\">Train doc data/html/processed/whats_new/v0.19.txt</h2>\n",
              "\n",
              "<div class=\"spans\" style=\"line-height: 2.5; direction: ltr\">MinCovDet   where inputting data that produced a singular covariance matrix would cause the helper method _ c_step to throw an exception .   # 3367   by   Jeremy Steward \n",
              "\n",
              " -    Fixed a bug in   \n",
              "<span style=\"font-weight: bold; display: inline-block; position: relative; height: 60px;\">\n",
              "    manifold\n",
              "    \n",
              "<span style=\"background: #ddd; top: 40px; height: 4px; left: -1px; width: calc(100% + 2px); position: absolute;\">\n",
              "</span>\n",
              "\n",
              "    \n",
              "<span style=\"background: #ddd; top: 40px; height: 4px; border-top-left-radius: 3px; border-bottom-left-radius: 3px; left: -1px; width: calc(100% + 2px); position: absolute;\">\n",
              "    <span style=\"background: #ddd; z-index: 10; color: #000; top: -0.5em; padding: 2px 3px; position: absolute; font-size: 0.6em; font-weight: bold; line-height: 1; border-radius: 3px\">\n",
              "        modules/generated/sklearn.manifold.tsne.html#sklearn.manifold.tsne\n",
              "    </span>\n",
              "</span>\n",
              "\n",
              "\n",
              "</span>\n",
              "\n",
              "<span style=\"font-weight: bold; display: inline-block; position: relative; height: 60px;\">\n",
              "    .\n",
              "    \n",
              "<span style=\"background: #ddd; top: 40px; height: 4px; left: -1px; width: calc(100% + 2px); position: absolute;\">\n",
              "</span>\n",
              "\n",
              "    \n",
              "</span>\n",
              "\n",
              "<span style=\"font-weight: bold; display: inline-block; position: relative; height: 60px;\">\n",
              "    TSNE\n",
              "    \n",
              "<span style=\"background: #ddd; top: 40px; height: 4px; left: -1px; width: calc(100% + 2px); position: absolute;\">\n",
              "</span>\n",
              "\n",
              "    \n",
              "</span>\n",
              "  affecting convergence of the gradient descent . </div></span>"
            ],
            "text/plain": [
              "<IPython.core.display.HTML object>"
            ]
          },
          "metadata": {},
          "output_type": "display_data"
        },
        {
          "data": {
            "text/html": [
              "<span class=\"tex2jax_ignore\"><h2 style=\"margin: 0\">Train doc data/html/processed/whats_new/v0.24.txt</h2>\n",
              "\n",
              "<div class=\"spans\" style=\"line-height: 2.5; direction: ltr\">  # 17997   by   Bertrand Maisonneuve . \n",
              "\n",
              " -    Enhancement Add square_distances parameter to   \n",
              "<span style=\"font-weight: bold; display: inline-block; position: relative; height: 60px;\">\n",
              "    manifold\n",
              "    \n",
              "<span style=\"background: #ddd; top: 40px; height: 4px; left: -1px; width: calc(100% + 2px); position: absolute;\">\n",
              "</span>\n",
              "\n",
              "    \n",
              "<span style=\"background: #ddd; top: 40px; height: 4px; border-top-left-radius: 3px; border-bottom-left-radius: 3px; left: -1px; width: calc(100% + 2px); position: absolute;\">\n",
              "    <span style=\"background: #ddd; z-index: 10; color: #000; top: -0.5em; padding: 2px 3px; position: absolute; font-size: 0.6em; font-weight: bold; line-height: 1; border-radius: 3px\">\n",
              "        modules/generated/sklearn.manifold.tsne.html#sklearn.manifold.tsne\n",
              "    </span>\n",
              "</span>\n",
              "\n",
              "\n",
              "</span>\n",
              "\n",
              "<span style=\"font-weight: bold; display: inline-block; position: relative; height: 60px;\">\n",
              "    .\n",
              "    \n",
              "<span style=\"background: #ddd; top: 40px; height: 4px; left: -1px; width: calc(100% + 2px); position: absolute;\">\n",
              "</span>\n",
              "\n",
              "    \n",
              "</span>\n",
              "\n",
              "<span style=\"font-weight: bold; display: inline-block; position: relative; height: 60px;\">\n",
              "    TSNE\n",
              "    \n",
              "<span style=\"background: #ddd; top: 40px; height: 4px; left: -1px; width: calc(100% + 2px); position: absolute;\">\n",
              "</span>\n",
              "\n",
              "    \n",
              "</span>\n",
              ", which provides backward compatibility during deprecation of legacy squaring behavior . </div></span>"
            ],
            "text/plain": [
              "<IPython.core.display.HTML object>"
            ]
          },
          "metadata": {},
          "output_type": "display_data"
        },
        {
          "data": {
            "text/html": [
              "<span class=\"tex2jax_ignore\"><h2 style=\"margin: 0\">Train doc data/html/processed/whats_new/v0.15.txt</h2>\n",
              "\n",
              "<div class=\"spans\" style=\"line-height: 2.5; direction: ltr\">RANSACRegressor   for robust regression models . \n",
              "\n",
              " -    Added dimensionality reduction with   \n",
              "<span style=\"font-weight: bold; display: inline-block; position: relative; height: 60px;\">\n",
              "    manifold\n",
              "    \n",
              "<span style=\"background: #ddd; top: 40px; height: 4px; left: -1px; width: calc(100% + 2px); position: absolute;\">\n",
              "</span>\n",
              "\n",
              "    \n",
              "<span style=\"background: #ddd; top: 40px; height: 4px; border-top-left-radius: 3px; border-bottom-left-radius: 3px; left: -1px; width: calc(100% + 2px); position: absolute;\">\n",
              "    <span style=\"background: #ddd; z-index: 10; color: #000; top: -0.5em; padding: 2px 3px; position: absolute; font-size: 0.6em; font-weight: bold; line-height: 1; border-radius: 3px\">\n",
              "        modules/generated/sklearn.manifold.tsne.html#sklearn.manifold.tsne\n",
              "    </span>\n",
              "</span>\n",
              "\n",
              "\n",
              "</span>\n",
              "\n",
              "<span style=\"font-weight: bold; display: inline-block; position: relative; height: 60px;\">\n",
              "    .\n",
              "    \n",
              "<span style=\"background: #ddd; top: 40px; height: 4px; left: -1px; width: calc(100% + 2px); position: absolute;\">\n",
              "</span>\n",
              "\n",
              "    \n",
              "</span>\n",
              "\n",
              "<span style=\"font-weight: bold; display: inline-block; position: relative; height: 60px;\">\n",
              "    TSNE\n",
              "    \n",
              "<span style=\"background: #ddd; top: 40px; height: 4px; left: -1px; width: calc(100% + 2px); position: absolute;\">\n",
              "</span>\n",
              "\n",
              "    \n",
              "</span>\n",
              "  which can be used to visualize high - dimensional data . </div></span>"
            ],
            "text/plain": [
              "<IPython.core.display.HTML object>"
            ]
          },
          "metadata": {},
          "output_type": "display_data"
        },
        {
          "data": {
            "text/html": [
              "<span class=\"tex2jax_ignore\"><h2 style=\"margin: 0\">Train doc data/html/processed/whats_new/v0.15.txt</h2>\n",
              "\n",
              "<div class=\"spans\" style=\"line-height: 2.5; direction: ltr\">By   Manoj Kumar . \n",
              "\n",
              " -    Added   \n",
              "<span style=\"font-weight: bold; display: inline-block; position: relative; height: 60px;\">\n",
              "    manifold\n",
              "    \n",
              "<span style=\"background: #ddd; top: 40px; height: 4px; left: -1px; width: calc(100% + 2px); position: absolute;\">\n",
              "</span>\n",
              "\n",
              "    \n",
              "<span style=\"background: #ddd; top: 40px; height: 4px; border-top-left-radius: 3px; border-bottom-left-radius: 3px; left: -1px; width: calc(100% + 2px); position: absolute;\">\n",
              "    <span style=\"background: #ddd; z-index: 10; color: #000; top: -0.5em; padding: 2px 3px; position: absolute; font-size: 0.6em; font-weight: bold; line-height: 1; border-radius: 3px\">\n",
              "        modules/generated/sklearn.manifold.tsne.html#sklearn.manifold.tsne\n",
              "    </span>\n",
              "</span>\n",
              "\n",
              "\n",
              "</span>\n",
              "\n",
              "<span style=\"font-weight: bold; display: inline-block; position: relative; height: 60px;\">\n",
              "    .\n",
              "    \n",
              "<span style=\"background: #ddd; top: 40px; height: 4px; left: -1px; width: calc(100% + 2px); position: absolute;\">\n",
              "</span>\n",
              "\n",
              "    \n",
              "</span>\n",
              "\n",
              "<span style=\"font-weight: bold; display: inline-block; position: relative; height: 60px;\">\n",
              "    TSNE\n",
              "    \n",
              "<span style=\"background: #ddd; top: 40px; height: 4px; left: -1px; width: calc(100% + 2px); position: absolute;\">\n",
              "</span>\n",
              "\n",
              "    \n",
              "</span>\n",
              ". </div></span>"
            ],
            "text/plain": [
              "<IPython.core.display.HTML object>"
            ]
          },
          "metadata": {},
          "output_type": "display_data"
        },
        {
          "data": {
            "text/html": [
              "<span class=\"tex2jax_ignore\"><h2 style=\"margin: 0\">Train doc data/html/processed/whats_new/v0.22.txt</h2>\n",
              "\n",
              "<div class=\"spans\" style=\"line-height: 2.5; direction: ltr\">\n",
              "\n",
              "  sklearn.manifold   ¶ \n",
              "\n",
              " -    Feature   manifold . Isomap ,   \n",
              "<span style=\"font-weight: bold; display: inline-block; position: relative; height: 60px;\">\n",
              "    manifold\n",
              "    \n",
              "<span style=\"background: #ddd; top: 40px; height: 4px; left: -1px; width: calc(100% + 2px); position: absolute;\">\n",
              "</span>\n",
              "\n",
              "    \n",
              "<span style=\"background: #ddd; top: 40px; height: 4px; border-top-left-radius: 3px; border-bottom-left-radius: 3px; left: -1px; width: calc(100% + 2px); position: absolute;\">\n",
              "    <span style=\"background: #ddd; z-index: 10; color: #000; top: -0.5em; padding: 2px 3px; position: absolute; font-size: 0.6em; font-weight: bold; line-height: 1; border-radius: 3px\">\n",
              "        modules/generated/sklearn.manifold.tsne.html#sklearn.manifold.tsne\n",
              "    </span>\n",
              "</span>\n",
              "\n",
              "\n",
              "</span>\n",
              "\n",
              "<span style=\"font-weight: bold; display: inline-block; position: relative; height: 60px;\">\n",
              "    .\n",
              "    \n",
              "<span style=\"background: #ddd; top: 40px; height: 4px; left: -1px; width: calc(100% + 2px); position: absolute;\">\n",
              "</span>\n",
              "\n",
              "    \n",
              "</span>\n",
              "\n",
              "<span style=\"font-weight: bold; display: inline-block; position: relative; height: 60px;\">\n",
              "    TSNE\n",
              "    \n",
              "<span style=\"background: #ddd; top: 40px; height: 4px; left: -1px; width: calc(100% + 2px); position: absolute;\">\n",
              "</span>\n",
              "\n",
              "    \n",
              "</span>\n",
              ", and   manifold . </div></span>"
            ],
            "text/plain": [
              "<IPython.core.display.HTML object>"
            ]
          },
          "metadata": {},
          "output_type": "display_data"
        },
        {
          "data": {
            "text/html": [
              "<span class=\"tex2jax_ignore\"><h2 style=\"margin: 0\">Train doc data/html/processed/whats_new/v0.22.txt</h2>\n",
              "\n",
              "<div class=\"spans\" style=\"line-height: 2.5; direction: ltr\">  # 10482   by   Tom Dupre la Tour   and   Kumar Ashutosh . \n",
              "\n",
              " -    Feature Exposed the n_jobs parameter in   \n",
              "<span style=\"font-weight: bold; display: inline-block; position: relative; height: 60px;\">\n",
              "    manifold\n",
              "    \n",
              "<span style=\"background: #ddd; top: 40px; height: 4px; left: -1px; width: calc(100% + 2px); position: absolute;\">\n",
              "</span>\n",
              "\n",
              "    \n",
              "<span style=\"background: #ddd; top: 40px; height: 4px; border-top-left-radius: 3px; border-bottom-left-radius: 3px; left: -1px; width: calc(100% + 2px); position: absolute;\">\n",
              "    <span style=\"background: #ddd; z-index: 10; color: #000; top: -0.5em; padding: 2px 3px; position: absolute; font-size: 0.6em; font-weight: bold; line-height: 1; border-radius: 3px\">\n",
              "        modules/generated/sklearn.manifold.tsne.html#sklearn.manifold.tsne\n",
              "    </span>\n",
              "</span>\n",
              "\n",
              "\n",
              "</span>\n",
              "\n",
              "<span style=\"font-weight: bold; display: inline-block; position: relative; height: 60px;\">\n",
              "    .\n",
              "    \n",
              "<span style=\"background: #ddd; top: 40px; height: 4px; left: -1px; width: calc(100% + 2px); position: absolute;\">\n",
              "</span>\n",
              "\n",
              "    \n",
              "</span>\n",
              "\n",
              "<span style=\"font-weight: bold; display: inline-block; position: relative; height: 60px;\">\n",
              "    TSNE\n",
              "    \n",
              "<span style=\"background: #ddd; top: 40px; height: 4px; left: -1px; width: calc(100% + 2px); position: absolute;\">\n",
              "</span>\n",
              "\n",
              "    \n",
              "</span>\n",
              "  for multi - core calculation of the neighbors graph . </div></span>"
            ],
            "text/plain": [
              "<IPython.core.display.HTML object>"
            ]
          },
          "metadata": {},
          "output_type": "display_data"
        },
        {
          "data": {
            "text/html": [
              "<span class=\"tex2jax_ignore\"><h2 style=\"margin: 0\">Train doc data/html/processed/whats_new/v0.22.txt</h2>\n",
              "\n",
              "<div class=\"spans\" style=\"line-height: 2.5; direction: ltr\">  # 15082   by   Roman Yurchak . \n",
              "\n",
              " -    Efficiency Improved efficiency of   \n",
              "<span style=\"font-weight: bold; display: inline-block; position: relative; height: 60px;\">\n",
              "    manifold\n",
              "    \n",
              "<span style=\"background: #ddd; top: 40px; height: 4px; left: -1px; width: calc(100% + 2px); position: absolute;\">\n",
              "</span>\n",
              "\n",
              "    \n",
              "<span style=\"background: #ddd; top: 40px; height: 4px; border-top-left-radius: 3px; border-bottom-left-radius: 3px; left: -1px; width: calc(100% + 2px); position: absolute;\">\n",
              "    <span style=\"background: #ddd; z-index: 10; color: #000; top: -0.5em; padding: 2px 3px; position: absolute; font-size: 0.6em; font-weight: bold; line-height: 1; border-radius: 3px\">\n",
              "        modules/generated/sklearn.manifold.tsne.html#sklearn.manifold.tsne\n",
              "    </span>\n",
              "</span>\n",
              "\n",
              "\n",
              "</span>\n",
              "\n",
              "<span style=\"font-weight: bold; display: inline-block; position: relative; height: 60px;\">\n",
              "    .\n",
              "    \n",
              "<span style=\"background: #ddd; top: 40px; height: 4px; left: -1px; width: calc(100% + 2px); position: absolute;\">\n",
              "</span>\n",
              "\n",
              "    \n",
              "</span>\n",
              "\n",
              "<span style=\"font-weight: bold; display: inline-block; position: relative; height: 60px;\">\n",
              "    TSNE\n",
              "    \n",
              "<span style=\"background: #ddd; top: 40px; height: 4px; left: -1px; width: calc(100% + 2px); position: absolute;\">\n",
              "</span>\n",
              "\n",
              "    \n",
              "</span>\n",
              "  when method=&quot;barnes - hut &quot; by computing the gradient in parallel . </div></span>"
            ],
            "text/plain": [
              "<IPython.core.display.HTML object>"
            ]
          },
          "metadata": {},
          "output_type": "display_data"
        },
        {
          "data": {
            "text/html": [
              "<span class=\"tex2jax_ignore\"><h2 style=\"margin: 0\">Train doc data/html/processed/whats_new/v0.20.txt</h2>\n",
              "\n",
              "<div class=\"spans\" style=\"line-height: 2.5; direction: ltr\">  # 10723   by   Joel Nothman . \n",
              "\n",
              "  sklearn.manifold   ¶ \n",
              "\n",
              " -    Efficiency Speed improvements for both ‘ exact ’ and ‘ barnes_hut ’ methods in   \n",
              "<span style=\"font-weight: bold; display: inline-block; position: relative; height: 60px;\">\n",
              "    manifold\n",
              "    \n",
              "<span style=\"background: #ddd; top: 40px; height: 4px; left: -1px; width: calc(100% + 2px); position: absolute;\">\n",
              "</span>\n",
              "\n",
              "    \n",
              "<span style=\"background: #ddd; top: 40px; height: 4px; border-top-left-radius: 3px; border-bottom-left-radius: 3px; left: -1px; width: calc(100% + 2px); position: absolute;\">\n",
              "    <span style=\"background: #ddd; z-index: 10; color: #000; top: -0.5em; padding: 2px 3px; position: absolute; font-size: 0.6em; font-weight: bold; line-height: 1; border-radius: 3px\">\n",
              "        modules/generated/sklearn.manifold.tsne.html#sklearn.manifold.tsne\n",
              "    </span>\n",
              "</span>\n",
              "\n",
              "\n",
              "</span>\n",
              "\n",
              "<span style=\"font-weight: bold; display: inline-block; position: relative; height: 60px;\">\n",
              "    .\n",
              "    \n",
              "<span style=\"background: #ddd; top: 40px; height: 4px; left: -1px; width: calc(100% + 2px); position: absolute;\">\n",
              "</span>\n",
              "\n",
              "    \n",
              "</span>\n",
              "\n",
              "<span style=\"font-weight: bold; display: inline-block; position: relative; height: 60px;\">\n",
              "    TSNE\n",
              "    \n",
              "<span style=\"background: #ddd; top: 40px; height: 4px; left: -1px; width: calc(100% + 2px); position: absolute;\">\n",
              "</span>\n",
              "\n",
              "    \n",
              "</span>\n",
              ". </div></span>"
            ],
            "text/plain": [
              "<IPython.core.display.HTML object>"
            ]
          },
          "metadata": {},
          "output_type": "display_data"
        },
        {
          "data": {
            "text/html": [
              "<span class=\"tex2jax_ignore\"><h2 style=\"margin: 0\">Reference data/html/processed/whats_new/v1.1.txt</h2>\n",
              "\n",
              "<div class=\"spans\" style=\"line-height: 2.5; direction: ltr\">Isomap \n",
              "\n",
              "     -     sklearn.manifold . LocallyLinearEmbedding \n",
              "\n",
              "     -     \n",
              "<span style=\"font-weight: bold; display: inline-block; position: relative; height: 60px;\">\n",
              "    sklearn.manifold\n",
              "    \n",
              "<span style=\"background: #ddd; top: 40px; height: 4px; left: -1px; width: calc(100% + 2px); position: absolute;\">\n",
              "</span>\n",
              "\n",
              "    \n",
              "<span style=\"background: #ddd; top: 40px; height: 4px; border-top-left-radius: 3px; border-bottom-left-radius: 3px; left: -1px; width: calc(100% + 2px); position: absolute;\">\n",
              "    <span style=\"background: #ddd; z-index: 10; color: #000; top: -0.5em; padding: 2px 3px; position: absolute; font-size: 0.6em; font-weight: bold; line-height: 1; border-radius: 3px\">\n",
              "        modules/generated/sklearn.manifold.tsne.html#sklearn.manifold.tsne\n",
              "    </span>\n",
              "</span>\n",
              "\n",
              "\n",
              "</span>\n",
              "\n",
              "<span style=\"font-weight: bold; display: inline-block; position: relative; height: 60px;\">\n",
              "    .\n",
              "    \n",
              "<span style=\"background: #ddd; top: 40px; height: 4px; left: -1px; width: calc(100% + 2px); position: absolute;\">\n",
              "</span>\n",
              "\n",
              "    \n",
              "</span>\n",
              "\n",
              "<span style=\"font-weight: bold; display: inline-block; position: relative; height: 60px;\">\n",
              "    TSNE\n",
              "    \n",
              "<span style=\"background: #ddd; top: 40px; height: 4px; left: -1px; width: calc(100% + 2px); position: absolute;\">\n",
              "</span>\n",
              "\n",
              "    \n",
              "</span>\n",
              "\n",
              "\n",
              "     -     sklearn.manifold.trustworthiness \n",
              "\n",
              "     -     sklearn.semi_supervised . </div>\n",
              "\n",
              "<h2 style=\"margin: 0\">Predicted data/html/processed/whats_new/v1.1.txt</h2>\n",
              "\n",
              "<div class=\"spans\" style=\"line-height: 2.5; direction: ltr\">Isomap \n",
              "\n",
              "     -     sklearn.manifold . LocallyLinearEmbedding \n",
              "\n",
              "     -     \n",
              "<span style=\"font-weight: bold; display: inline-block; position: relative; height: 60px;\">\n",
              "    sklearn.manifold\n",
              "    \n",
              "<span style=\"background: #ddd; top: 40px; height: 4px; left: -1px; width: calc(100% + 2px); position: absolute;\">\n",
              "</span>\n",
              "\n",
              "    \n",
              "<span style=\"background: #ddd; top: 40px; height: 4px; border-top-left-radius: 3px; border-bottom-left-radius: 3px; left: -1px; width: calc(100% + 2px); position: absolute;\">\n",
              "    <span style=\"background: #ddd; z-index: 10; color: #000; top: -0.5em; padding: 2px 3px; position: absolute; font-size: 0.6em; font-weight: bold; line-height: 1; border-radius: 3px\">\n",
              "        modules/generated/sklearn.manifold.tsne.html#sklearn.manifold.tsne\n",
              "    </span>\n",
              "</span>\n",
              "\n",
              "\n",
              "</span>\n",
              "\n",
              "<span style=\"font-weight: bold; display: inline-block; position: relative; height: 60px;\">\n",
              "    .\n",
              "    \n",
              "<span style=\"background: #ddd; top: 40px; height: 4px; left: -1px; width: calc(100% + 2px); position: absolute;\">\n",
              "</span>\n",
              "\n",
              "    \n",
              "</span>\n",
              "\n",
              "<span style=\"font-weight: bold; display: inline-block; position: relative; height: 60px;\">\n",
              "    TSNE\n",
              "    \n",
              "<span style=\"background: #ddd; top: 40px; height: 4px; left: -1px; width: calc(100% + 2px); position: absolute;\">\n",
              "</span>\n",
              "\n",
              "    \n",
              "</span>\n",
              "\n",
              "\n",
              "     -     sklearn.manifold.trustworthiness \n",
              "\n",
              "     -     sklearn.semi_supervised . </div></span>"
            ],
            "text/plain": [
              "<IPython.core.display.HTML object>"
            ]
          },
          "metadata": {},
          "output_type": "display_data"
        },
        {
          "data": {
            "text/html": [
              "<span class=\"tex2jax_ignore\"><h2 style=\"margin: 0\">Reference data/html/processed/whats_new/v0.17.txt</h2>\n",
              "\n",
              "<div class=\"spans\" style=\"line-height: 2.5; direction: ltr\">By   Tom Dupre la Tour   and   Mathieu Blondel . \n",
              "\n",
              " Enhancements ¶ \n",
              "\n",
              " -     \n",
              "<span style=\"font-weight: bold; display: inline-block; position: relative; height: 60px;\">\n",
              "    manifold\n",
              "    \n",
              "<span style=\"background: #ddd; top: 40px; height: 4px; left: -1px; width: calc(100% + 2px); position: absolute;\">\n",
              "</span>\n",
              "\n",
              "    \n",
              "<span style=\"background: #ddd; top: 40px; height: 4px; border-top-left-radius: 3px; border-bottom-left-radius: 3px; left: -1px; width: calc(100% + 2px); position: absolute;\">\n",
              "    <span style=\"background: #ddd; z-index: 10; color: #000; top: -0.5em; padding: 2px 3px; position: absolute; font-size: 0.6em; font-weight: bold; line-height: 1; border-radius: 3px\">\n",
              "        modules/generated/sklearn.manifold.tsne.html#sklearn.manifold.tsne\n",
              "    </span>\n",
              "</span>\n",
              "\n",
              "\n",
              "</span>\n",
              "\n",
              "<span style=\"font-weight: bold; display: inline-block; position: relative; height: 60px;\">\n",
              "    .\n",
              "    \n",
              "<span style=\"background: #ddd; top: 40px; height: 4px; left: -1px; width: calc(100% + 2px); position: absolute;\">\n",
              "</span>\n",
              "\n",
              "    \n",
              "</span>\n",
              "\n",
              "<span style=\"font-weight: bold; display: inline-block; position: relative; height: 60px;\">\n",
              "    TSNE\n",
              "    \n",
              "<span style=\"background: #ddd; top: 40px; height: 4px; left: -1px; width: calc(100% + 2px); position: absolute;\">\n",
              "</span>\n",
              "\n",
              "    \n",
              "</span>\n",
              "  now supports approximate optimization via the Barnes - Hut method , leading to much faster fitting . </div>\n",
              "\n",
              "<h2 style=\"margin: 0\">Predicted data/html/processed/whats_new/v0.17.txt</h2>\n",
              "\n",
              "<div class=\"spans\" style=\"line-height: 2.5; direction: ltr\">By   Tom Dupre la Tour   and   Mathieu Blondel . \n",
              "\n",
              " Enhancements ¶ \n",
              "\n",
              " -     \n",
              "<span style=\"font-weight: bold; display: inline-block; position: relative; height: 60px;\">\n",
              "    manifold\n",
              "    \n",
              "<span style=\"background: #ddd; top: 40px; height: 4px; left: -1px; width: calc(100% + 2px); position: absolute;\">\n",
              "</span>\n",
              "\n",
              "    \n",
              "<span style=\"background: #ddd; top: 40px; height: 4px; border-top-left-radius: 3px; border-bottom-left-radius: 3px; left: -1px; width: calc(100% + 2px); position: absolute;\">\n",
              "    <span style=\"background: #ddd; z-index: 10; color: #000; top: -0.5em; padding: 2px 3px; position: absolute; font-size: 0.6em; font-weight: bold; line-height: 1; border-radius: 3px\">\n",
              "        modules/generated/sklearn.manifold.tsne.html#sklearn.manifold.tsne\n",
              "    </span>\n",
              "</span>\n",
              "\n",
              "\n",
              "</span>\n",
              "\n",
              "<span style=\"font-weight: bold; display: inline-block; position: relative; height: 60px;\">\n",
              "    .\n",
              "    \n",
              "<span style=\"background: #ddd; top: 40px; height: 4px; left: -1px; width: calc(100% + 2px); position: absolute;\">\n",
              "</span>\n",
              "\n",
              "    \n",
              "</span>\n",
              "\n",
              "<span style=\"font-weight: bold; display: inline-block; position: relative; height: 60px;\">\n",
              "    TSNE\n",
              "    \n",
              "<span style=\"background: #ddd; top: 40px; height: 4px; left: -1px; width: calc(100% + 2px); position: absolute;\">\n",
              "</span>\n",
              "\n",
              "    \n",
              "</span>\n",
              "  now supports approximate optimization via the Barnes - Hut method , leading to much faster fitting . </div></span>"
            ],
            "text/plain": [
              "<IPython.core.display.HTML object>"
            ]
          },
          "metadata": {},
          "output_type": "display_data"
        },
        {
          "data": {
            "text/html": [
              "<span class=\"tex2jax_ignore\"><h2 style=\"margin: 0\">Reference data/html/processed/whats_new/v0.19.txt</h2>\n",
              "\n",
              "<div class=\"spans\" style=\"line-height: 2.5; direction: ltr\">  # 9693   by   Sam Steingold . \n",
              "\n",
              " -    Fixed a bug in the objective function for   \n",
              "<span style=\"font-weight: bold; display: inline-block; position: relative; height: 60px;\">\n",
              "    manifold\n",
              "    \n",
              "<span style=\"background: #ddd; top: 40px; height: 4px; left: -1px; width: calc(100% + 2px); position: absolute;\">\n",
              "</span>\n",
              "\n",
              "    \n",
              "<span style=\"background: #ddd; top: 40px; height: 4px; border-top-left-radius: 3px; border-bottom-left-radius: 3px; left: -1px; width: calc(100% + 2px); position: absolute;\">\n",
              "    <span style=\"background: #ddd; z-index: 10; color: #000; top: -0.5em; padding: 2px 3px; position: absolute; font-size: 0.6em; font-weight: bold; line-height: 1; border-radius: 3px\">\n",
              "        modules/generated/sklearn.manifold.tsne.html#sklearn.manifold.tsne\n",
              "    </span>\n",
              "</span>\n",
              "\n",
              "\n",
              "</span>\n",
              "\n",
              "<span style=\"font-weight: bold; display: inline-block; position: relative; height: 60px;\">\n",
              "    .\n",
              "    \n",
              "<span style=\"background: #ddd; top: 40px; height: 4px; left: -1px; width: calc(100% + 2px); position: absolute;\">\n",
              "</span>\n",
              "\n",
              "    \n",
              "</span>\n",
              "\n",
              "<span style=\"font-weight: bold; display: inline-block; position: relative; height: 60px;\">\n",
              "    TSNE\n",
              "    \n",
              "<span style=\"background: #ddd; top: 40px; height: 4px; left: -1px; width: calc(100% + 2px); position: absolute;\">\n",
              "</span>\n",
              "\n",
              "    \n",
              "</span>\n",
              "  ( both exact and with the Barnes - Hut approximation ) when n_components &gt; = 3 . </div>\n",
              "\n",
              "<h2 style=\"margin: 0\">Predicted data/html/processed/whats_new/v0.19.txt</h2>\n",
              "\n",
              "<div class=\"spans\" style=\"line-height: 2.5; direction: ltr\">  # 9693   by   Sam Steingold . \n",
              "\n",
              " -    Fixed a bug in the objective function for   \n",
              "<span style=\"font-weight: bold; display: inline-block; position: relative; height: 60px;\">\n",
              "    manifold\n",
              "    \n",
              "<span style=\"background: #ddd; top: 40px; height: 4px; left: -1px; width: calc(100% + 2px); position: absolute;\">\n",
              "</span>\n",
              "\n",
              "    \n",
              "<span style=\"background: #ddd; top: 40px; height: 4px; border-top-left-radius: 3px; border-bottom-left-radius: 3px; left: -1px; width: calc(100% + 2px); position: absolute;\">\n",
              "    <span style=\"background: #ddd; z-index: 10; color: #000; top: -0.5em; padding: 2px 3px; position: absolute; font-size: 0.6em; font-weight: bold; line-height: 1; border-radius: 3px\">\n",
              "        modules/generated/sklearn.manifold.tsne.html#sklearn.manifold.tsne\n",
              "    </span>\n",
              "</span>\n",
              "\n",
              "\n",
              "</span>\n",
              "\n",
              "<span style=\"font-weight: bold; display: inline-block; position: relative; height: 60px;\">\n",
              "    .\n",
              "    \n",
              "<span style=\"background: #ddd; top: 40px; height: 4px; left: -1px; width: calc(100% + 2px); position: absolute;\">\n",
              "</span>\n",
              "\n",
              "    \n",
              "</span>\n",
              "\n",
              "<span style=\"font-weight: bold; display: inline-block; position: relative; height: 60px;\">\n",
              "    TSNE\n",
              "    \n",
              "<span style=\"background: #ddd; top: 40px; height: 4px; left: -1px; width: calc(100% + 2px); position: absolute;\">\n",
              "</span>\n",
              "\n",
              "    \n",
              "</span>\n",
              "  ( both exact and with the Barnes - Hut approximation ) when n_components &gt; = 3 . </div></span>"
            ],
            "text/plain": [
              "<IPython.core.display.HTML object>"
            ]
          },
          "metadata": {},
          "output_type": "display_data"
        },
        {
          "data": {
            "text/html": [
              "<span class=\"tex2jax_ignore\"><h2 style=\"margin: 0\">Reference data/html/processed/whats_new/v0.19.txt</h2>\n",
              "\n",
              "<div class=\"spans\" style=\"line-height: 2.5; direction: ltr\">We ’ve fixed a longstanding implementation error in   metrics.average_precision_score , so please be cautious with prior results reported from that function . A number of errors in the   \n",
              "<span style=\"font-weight: bold; display: inline-block; position: relative; height: 60px;\">\n",
              "    manifold\n",
              "    \n",
              "<span style=\"background: #ddd; top: 40px; height: 4px; left: -1px; width: calc(100% + 2px); position: absolute;\">\n",
              "</span>\n",
              "\n",
              "    \n",
              "<span style=\"background: #ddd; top: 40px; height: 4px; border-top-left-radius: 3px; border-bottom-left-radius: 3px; left: -1px; width: calc(100% + 2px); position: absolute;\">\n",
              "    <span style=\"background: #ddd; z-index: 10; color: #000; top: -0.5em; padding: 2px 3px; position: absolute; font-size: 0.6em; font-weight: bold; line-height: 1; border-radius: 3px\">\n",
              "        modules/generated/sklearn.manifold.tsne.html#sklearn.manifold.tsne\n",
              "    </span>\n",
              "</span>\n",
              "\n",
              "\n",
              "</span>\n",
              "\n",
              "<span style=\"font-weight: bold; display: inline-block; position: relative; height: 60px;\">\n",
              "    .\n",
              "    \n",
              "<span style=\"background: #ddd; top: 40px; height: 4px; left: -1px; width: calc(100% + 2px); position: absolute;\">\n",
              "</span>\n",
              "\n",
              "    \n",
              "</span>\n",
              "\n",
              "<span style=\"font-weight: bold; display: inline-block; position: relative; height: 60px;\">\n",
              "    TSNE\n",
              "    \n",
              "<span style=\"background: #ddd; top: 40px; height: 4px; left: -1px; width: calc(100% + 2px); position: absolute;\">\n",
              "</span>\n",
              "\n",
              "    \n",
              "</span>\n",
              "  implementation have been fixed , particularly in the default Barnes - Hut approximation . </div>\n",
              "\n",
              "<h2 style=\"margin: 0\">Predicted data/html/processed/whats_new/v0.19.txt</h2>\n",
              "\n",
              "<div class=\"spans\" style=\"line-height: 2.5; direction: ltr\">We ’ve fixed a longstanding implementation error in   metrics.average_precision_score , so please be cautious with prior results reported from that function . A number of errors in the   \n",
              "<span style=\"font-weight: bold; display: inline-block; position: relative; height: 60px;\">\n",
              "    manifold\n",
              "    \n",
              "<span style=\"background: #ddd; top: 40px; height: 4px; left: -1px; width: calc(100% + 2px); position: absolute;\">\n",
              "</span>\n",
              "\n",
              "    \n",
              "<span style=\"background: #ddd; top: 40px; height: 4px; border-top-left-radius: 3px; border-bottom-left-radius: 3px; left: -1px; width: calc(100% + 2px); position: absolute;\">\n",
              "    <span style=\"background: #ddd; z-index: 10; color: #000; top: -0.5em; padding: 2px 3px; position: absolute; font-size: 0.6em; font-weight: bold; line-height: 1; border-radius: 3px\">\n",
              "        modules/generated/sklearn.manifold.tsne.html#sklearn.manifold.tsne\n",
              "    </span>\n",
              "</span>\n",
              "\n",
              "\n",
              "</span>\n",
              "\n",
              "<span style=\"font-weight: bold; display: inline-block; position: relative; height: 60px;\">\n",
              "    .\n",
              "    \n",
              "<span style=\"background: #ddd; top: 40px; height: 4px; left: -1px; width: calc(100% + 2px); position: absolute;\">\n",
              "</span>\n",
              "\n",
              "    \n",
              "</span>\n",
              "\n",
              "<span style=\"font-weight: bold; display: inline-block; position: relative; height: 60px;\">\n",
              "    TSNE\n",
              "    \n",
              "<span style=\"background: #ddd; top: 40px; height: 4px; left: -1px; width: calc(100% + 2px); position: absolute;\">\n",
              "</span>\n",
              "\n",
              "    \n",
              "</span>\n",
              "  implementation have been fixed , particularly in the default Barnes - Hut approximation . </div></span>"
            ],
            "text/plain": [
              "<IPython.core.display.HTML object>"
            ]
          },
          "metadata": {},
          "output_type": "display_data"
        },
        {
          "data": {
            "text/html": [
              "<span class=\"tex2jax_ignore\"><h2 style=\"margin: 0\">Reference data/html/processed/whats_new/v0.19.txt</h2>\n",
              "\n",
              "<div class=\"spans\" style=\"line-height: 2.5; direction: ltr\">  # 9239   by   Andre Ambrosio Boechat ,   Utkarsh Upadhyay , and   Joel Nothman . \n",
              "\n",
              " Decomposition , manifold learning and clustering \n",
              "\n",
              " -    Fixed the implementation of   \n",
              "<span style=\"font-weight: bold; display: inline-block; position: relative; height: 60px;\">\n",
              "    manifold\n",
              "    \n",
              "<span style=\"background: #ddd; top: 40px; height: 4px; left: -1px; width: calc(100% + 2px); position: absolute;\">\n",
              "</span>\n",
              "\n",
              "    \n",
              "<span style=\"background: #ddd; top: 40px; height: 4px; border-top-left-radius: 3px; border-bottom-left-radius: 3px; left: -1px; width: calc(100% + 2px); position: absolute;\">\n",
              "    <span style=\"background: #ddd; z-index: 10; color: #000; top: -0.5em; padding: 2px 3px; position: absolute; font-size: 0.6em; font-weight: bold; line-height: 1; border-radius: 3px\">\n",
              "        modules/generated/sklearn.manifold.tsne.html#sklearn.manifold.tsne\n",
              "    </span>\n",
              "</span>\n",
              "\n",
              "\n",
              "</span>\n",
              "\n",
              "<span style=\"font-weight: bold; display: inline-block; position: relative; height: 60px;\">\n",
              "    .\n",
              "    \n",
              "<span style=\"background: #ddd; top: 40px; height: 4px; left: -1px; width: calc(100% + 2px); position: absolute;\">\n",
              "</span>\n",
              "\n",
              "    \n",
              "</span>\n",
              "\n",
              "<span style=\"font-weight: bold; display: inline-block; position: relative; height: 60px;\">\n",
              "    TSNE\n",
              "    \n",
              "<span style=\"background: #ddd; top: 40px; height: 4px; left: -1px; width: calc(100% + 2px); position: absolute;\">\n",
              "</span>\n",
              "\n",
              "    \n",
              "</span>\n",
              ": \n",
              "\n",
              " -    early_exageration parameter had no effect and is now used for the first 250 optimization iterations . </div>\n",
              "\n",
              "<h2 style=\"margin: 0\">Predicted data/html/processed/whats_new/v0.19.txt</h2>\n",
              "\n",
              "<div class=\"spans\" style=\"line-height: 2.5; direction: ltr\">  # 9239   by   Andre Ambrosio Boechat ,   Utkarsh Upadhyay , and   Joel Nothman . \n",
              "\n",
              " Decomposition , manifold learning and clustering \n",
              "\n",
              " -    Fixed the implementation of   \n",
              "<span style=\"font-weight: bold; display: inline-block; position: relative; height: 60px;\">\n",
              "    manifold\n",
              "    \n",
              "<span style=\"background: #ddd; top: 40px; height: 4px; left: -1px; width: calc(100% + 2px); position: absolute;\">\n",
              "</span>\n",
              "\n",
              "    \n",
              "<span style=\"background: #ddd; top: 40px; height: 4px; border-top-left-radius: 3px; border-bottom-left-radius: 3px; left: -1px; width: calc(100% + 2px); position: absolute;\">\n",
              "    <span style=\"background: #ddd; z-index: 10; color: #000; top: -0.5em; padding: 2px 3px; position: absolute; font-size: 0.6em; font-weight: bold; line-height: 1; border-radius: 3px\">\n",
              "        modules/generated/sklearn.manifold.tsne.html#sklearn.manifold.tsne\n",
              "    </span>\n",
              "</span>\n",
              "\n",
              "\n",
              "</span>\n",
              "\n",
              "<span style=\"font-weight: bold; display: inline-block; position: relative; height: 60px;\">\n",
              "    .\n",
              "    \n",
              "<span style=\"background: #ddd; top: 40px; height: 4px; left: -1px; width: calc(100% + 2px); position: absolute;\">\n",
              "</span>\n",
              "\n",
              "    \n",
              "</span>\n",
              "\n",
              "<span style=\"font-weight: bold; display: inline-block; position: relative; height: 60px;\">\n",
              "    TSNE\n",
              "    \n",
              "<span style=\"background: #ddd; top: 40px; height: 4px; left: -1px; width: calc(100% + 2px); position: absolute;\">\n",
              "</span>\n",
              "\n",
              "    \n",
              "</span>\n",
              ": \n",
              "\n",
              " -    early_exageration parameter had no effect and is now used for the first 250 optimization iterations . </div></span>"
            ],
            "text/plain": [
              "<IPython.core.display.HTML object>"
            ]
          },
          "metadata": {},
          "output_type": "display_data"
        }
      ],
      "source": [
        "show_preds('modules/generated/sklearn.manifold.tsne.html#sklearn.manifold.tsne')"
      ]
    },
    {
      "attachments": {},
      "cell_type": "markdown",
      "metadata": {},
      "source": [
        "## Exploring preprocessing\n"
      ]
    },
    {
      "cell_type": "code",
      "execution_count": 1,
      "metadata": {
        "vscode": {
          "languageId": "python"
        }
      },
      "outputs": [
        {
          "name": "stdout",
          "output_type": "stream",
          "text": [
            "996"
          ]
        }
      ],
      "source": [
        "data_dir = 'data/html/processed/'\n",
        "pattern = os.path.join(data_dir, '**', '*' + '.txt')\n",
        "all_txt = glob.glob(pattern, recursive=True)\n",
        "print(len(all_txt))"
      ]
    },
    {
      "cell_type": "code",
      "execution_count": 1,
      "metadata": {
        "vscode": {
          "languageId": "python"
        }
      },
      "outputs": [],
      "source": [
        "all_linkdata = []\n",
        "all_links = []\n",
        "for path in all_txt:\n",
        "    with open(change_extension(path, '.linkdata.json'), 'r') as f:\n",
        "        linkdata = json.load(f)\n",
        "        all_linkdata.append(linkdata)\n",
        "        for v in linkdata.values():\n",
        "            all_links.append(v['link'])\n",
        "\n",
        "all_links_set = set(all_links)"
      ]
    },
    {
      "attachments": {},
      "cell_type": "markdown",
      "metadata": {},
      "source": [
        "### Lowercasing\n"
      ]
    },
    {
      "attachments": {},
      "cell_type": "markdown",
      "metadata": {},
      "source": [
        "We should check if the linkdata would benefit from normalization. In\n",
        "particular, it may be the case that the links are case insensitive, or\n",
        "are relative paths, in which case two different strings could be\n",
        "considered the same link.\n",
        "\n",
        "There's a few links that are the same but with different\n",
        "capitalization:\n"
      ]
    },
    {
      "cell_type": "code",
      "execution_count": 1,
      "metadata": {
        "vscode": {
          "languageId": "python"
        }
      },
      "outputs": [
        {
          "name": "stdout",
          "output_type": "stream",
          "text": [
            "#+begin_example\n",
            "['https://github.com/GLevV', 'https://github.com/glevv']\n",
            "['https://github.com/tomMoral', 'https://github.com/tommoral']\n",
            "['#sklearn.covariance.OAS', '#sklearn.covariance.oas']\n",
            "['https://github.com/Micky774', 'https://github.com/micky774']\n",
            "['https://github.com/GuillemGSubies', 'https://github.com/guillemgsubies']\n",
            "['https://github.com/NelleV', 'https://github.com/nellev']\n",
            "['#sklearn.cluster.DBSCAN', '#sklearn.cluster.dbscan']\n",
            "['#term-Y', '#term-y']\n",
            "['#sklearn.decomposition.FastICA', '#sklearn.decomposition.fastica']\n",
            "['https://github.com/NicolasHug', 'https://github.com/nicolashug']\n",
            "['https://en.wikipedia.org/wiki/Mutual_information', 'https://en.wikipedia.org/wiki/Mutual_Information']\n",
            "#+end_example"
          ]
        }
      ],
      "source": [
        "link_forms = defaultdict(list)\n",
        "for link in all_links_set:\n",
        "    link_forms[link.lower()].append(link)\n",
        "for links in link_forms.values():\n",
        "    if len(links) > 1:\n",
        "        print(links)"
      ]
    },
    {
      "attachments": {},
      "cell_type": "markdown",
      "metadata": {},
      "source": [
        "[Technically](https://www.w3.org/TR/WD-html40-970708/htmlweb.html) links are supposed to be case sensitive, but in this\n",
        "dataset it appears we should treat the links as case insensitive. The\n",
        "only questionable case is \"term-y\" vs \"term-Y\", however those both\n",
        "lead to the same place ([here](https://scikit-learn.org/stable/glossary.html#term-y)). When making this a user-facing product,\n",
        "it may be beneficial to have some settings around case sensitivity:\n",
        "insensitive/sensitive by default, exceptions.\n"
      ]
    },
    {
      "cell_type": "code",
      "execution_count": 1,
      "metadata": {
        "vscode": {
          "languageId": "python"
        }
      },
      "outputs": [],
      "source": [
        "all_links_lower = [l.lower() for l in all_links]\n",
        "all_links_lower_set = set(all_links_lower)"
      ]
    },
    {
      "attachments": {},
      "cell_type": "markdown",
      "metadata": {},
      "source": [
        "### Link normalization\n"
      ]
    },
    {
      "attachments": {},
      "cell_type": "markdown",
      "metadata": {},
      "source": [
        "Next we'll explore normalization of the urls.\n",
        "\n",
        "Initial exploration indicated that the only part of the url that could\n",
        "be allowed to vary while still considering links to be equivalent was\n",
        "the scheme; in particular \"http\" vs \"https\". The host (`netloc`) cannot\n",
        "vary due to cases like \"github.com/username\" and\n",
        "\"twitter.com/username\". The query/params cannot vary due to cases of\n",
        "websites that show different pages based on the query, for example\n",
        "youtube or mybinder. The fragment cannot vary because it may be used\n",
        "to point to different places within the same page. So we'll count the\n",
        "cases where the scheme differs across examples:\n"
      ]
    },
    {
      "cell_type": "code",
      "execution_count": 1,
      "metadata": {
        "vscode": {
          "languageId": "python"
        }
      },
      "outputs": [
        {
          "name": "stdout",
          "output_type": "stream",
          "text": [
            "[('http://www.sciencedirect.com/science/article/pii/s016786550500303x', ParseResult(scheme='http', netloc='www.sciencedirect.com', path='/science/article/pii/s016786550500303x', params='', query='', fragment='')), ('https://www.sciencedirect.com/science/article/pii/s016786550500303x', ParseResult(scheme='https', netloc='www.sciencedirect.com', path='/science/article/pii/s016786550500303x', params='', query='', fragment=''))]\n",
            "[('http://scikit-learn.org/stable/modules/sgd.html', ParseResult(scheme='http', netloc='scikit-learn.org', path='/stable/modules/sgd.html', params='', query='', fragment='')), ('https://scikit-learn.org/stable/modules/sgd.html', ParseResult(scheme='https', netloc='scikit-learn.org', path='/stable/modules/sgd.html', params='', query='', fragment=''))]\n",
            "[('https://gael-varoquaux.info', ParseResult(scheme='https', netloc='gael-varoquaux.info', path='', params='', query='', fragment='')), ('http://gael-varoquaux.info', ParseResult(scheme='http', netloc='gael-varoquaux.info', path='', params='', query='', fragment=''))]\n",
            "[('http://jmlr.csail.mit.edu/papers/volume2/crammer01a/crammer01a.pdf', ParseResult(scheme='http', netloc='jmlr.csail.mit.edu', path='/papers/volume2/crammer01a/crammer01a.pdf', params='', query='', fragment='')), ('https://jmlr.csail.mit.edu/papers/volume2/crammer01a/crammer01a.pdf', ParseResult(scheme='https', netloc='jmlr.csail.mit.edu', path='/papers/volume2/crammer01a/crammer01a.pdf', params='', query='', fragment=''))]\n",
            "[('http://jmlr.csail.mit.edu/papers/volume11/vinh10a/vinh10a.pdf', ParseResult(scheme='http', netloc='jmlr.csail.mit.edu', path='/papers/volume11/vinh10a/vinh10a.pdf', params='', query='', fragment='')), ('https://jmlr.csail.mit.edu/papers/volume11/vinh10a/vinh10a.pdf', ParseResult(scheme='https', netloc='jmlr.csail.mit.edu', path='/papers/volume11/vinh10a/vinh10a.pdf', params='', query='', fragment=''))]\n",
            "[('https://www.csie.ntu.edu.tw/~cjlin/papers/libsvm.pdf', ParseResult(scheme='https', netloc='www.csie.ntu.edu.tw', path='/~cjlin/papers/libsvm.pdf', params='', query='', fragment='')), ('http://www.csie.ntu.edu.tw/~cjlin/papers/libsvm.pdf', ParseResult(scheme='http', netloc='www.csie.ntu.edu.tw', path='/~cjlin/papers/libsvm.pdf', params='', query='', fragment=''))]"
          ]
        }
      ],
      "source": [
        "link_paths = defaultdict(list)\n",
        "\n",
        "for l in all_links_lower_set:\n",
        "    parse = urlparse(l)\n",
        "    p = parse.netloc + parse.path + parse.fragment + parse.query + parse.params\n",
        "    if p != '':\n",
        "        link_paths[p].append((l, parse))\n",
        "\n",
        "change_scheme = {}\n",
        "for links in link_paths.values():\n",
        "    if len(links) > 1:\n",
        "        print(links)\n",
        "        has_scheme = lambda scheme, ls: filter(lambda l: l[1].scheme == scheme, ls)\n",
        "        for httpsl, _ in has_scheme('https', links):\n",
        "           for l, p in links:\n",
        "               if p.scheme == 'http':\n",
        "                   change_scheme[l] = httpsl"
      ]
    },
    {
      "attachments": {},
      "cell_type": "markdown",
      "metadata": {},
      "source": [
        "Not that many, but still worth taking into account. For this case,\n",
        "changing the scheme may actually break the link, so we'll only change\n",
        "the scheme to \"https\" for cases where there is already an \"https\"\n",
        "variation of the link. We'll also do a roundtrip of parsing the url,\n",
        "which should normalize alternate forms of the same link (in particular\n",
        "'' and '#').\n"
      ]
    },
    {
      "cell_type": "code",
      "execution_count": 1,
      "metadata": {
        "vscode": {
          "languageId": "python"
        }
      },
      "outputs": [],
      "source": [
        "print(urlunparse(urlparse('#')))"
      ]
    },
    {
      "cell_type": "code",
      "execution_count": 1,
      "metadata": {
        "vscode": {
          "languageId": "python"
        }
      },
      "outputs": [
        {
          "name": "stdout",
          "output_type": "stream",
          "text": [
            "6\n",
            "16905\n",
            "16899"
          ]
        }
      ],
      "source": [
        "all_links_lower_norm = []\n",
        "for l in all_links_lower:\n",
        "    scheme_updated = change_scheme.get(l) or l\n",
        "    all_links_lower_norm.append(urlunparse(urlparse(scheme_updated)))\n",
        "print(len(change_scheme))\n",
        "print(len(set(all_links_lower)))\n",
        "all_links_lower_norm_set = set(all_links_lower_norm)\n",
        "print(len(all_links_lower_norm_set))"
      ]
    },
    {
      "attachments": {},
      "cell_type": "markdown",
      "metadata": {},
      "source": [
        "### Relative links\n"
      ]
    },
    {
      "attachments": {},
      "cell_type": "markdown",
      "metadata": {},
      "source": [
        "Finally we look at normalizing relative paths:\n"
      ]
    },
    {
      "cell_type": "code",
      "execution_count": 1,
      "metadata": {
        "vscode": {
          "languageId": "python"
        }
      },
      "outputs": [
        {
          "name": "stdout",
          "output_type": "stream",
          "text": [
            "Number of links with the same tail but different strings: 646\n",
            "datasets/toy_dataset.html#iris-dataset ['../../datasets/toy_dataset.html#iris-dataset', '../datasets/toy_dataset.html#iris-dataset']\n",
            "auto_examples/svm/plot_svm_anova.html#sphx-glr-auto-examples-svm-plot-svm-anova-py ['../../auto_examples/svm/plot_svm_anova.html#sphx-glr-auto-examples-svm-plot-svm-anova-py', '../auto_examples/svm/plot_svm_anova.html#sphx-glr-auto-examples-svm-plot-svm-anova-py']\n",
            "modules/clustering.html#clustering-evaluation ['../modules/clustering.html#clustering-evaluation', '../../modules/clustering.html#clustering-evaluation']\n",
            "modules/generated/sklearn.impute.iterativeimputer.html#sklearn.impute.iterativeimputer ['../modules/generated/sklearn.impute.iterativeimputer.html#sklearn.impute.iterativeimputer', '../../modules/generated/sklearn.impute.iterativeimputer.html#sklearn.impute.iterativeimputer']\n",
            "modules/generated/sklearn.preprocessing.standardscaler.html#sklearn.preprocessing.standardscaler ['../modules/generated/sklearn.preprocessing.standardscaler.html#sklearn.preprocessing.standardscaler', 'modules/generated/sklearn.preprocessing.standardscaler.html#sklearn.preprocessing.standardscaler', '../../modules/generated/sklearn.preprocessing.standardscaler.html#sklearn.preprocessing.standardscaler']"
          ]
        }
      ],
      "source": [
        "def norm_relative_link(link):\n",
        "    if link.startswith('./') or link.startswith('../'):\n",
        "        return re.sub(r'^(\\.?\\./)+', '', link)\n",
        "    return link\n",
        "\n",
        "link_tails = defaultdict(list)\n",
        "\n",
        "for l in all_links_lower_norm_set:\n",
        "    norm = norm_relative_link(l)\n",
        "    link_tails[norm].append(l)\n",
        "\n",
        "multis = [(norm, links) for norm, links in link_tails.items() if len(links) > 1]\n",
        "\n",
        "print('Number of links with the same tail but different strings:', len(multis))\n",
        "for norm, links in multis[:5]:\n",
        "    if len(links) > 1:\n",
        "        print(norm, links)"
      ]
    },
    {
      "attachments": {},
      "cell_type": "markdown",
      "metadata": {},
      "source": [
        "We see there are a lot of cases where two different strings refer to\n",
        "the same location due to the relative link structure. Relative paths\n",
        "are something the can be rebuilt automatically, so we'll normalize\n",
        "these as well:\n"
      ]
    },
    {
      "cell_type": "code",
      "execution_count": 1,
      "metadata": {
        "vscode": {
          "languageId": "python"
        }
      },
      "outputs": [
        {
          "name": "stdout",
          "output_type": "stream",
          "text": [
            "16916\n",
            "16162"
          ]
        }
      ],
      "source": [
        "all_links_processed = [norm_relative_link(l) for l in all_links_lower_norm if l != '']\n",
        "print(len(all_links_set))\n",
        "print(len(set(all_links_processed)))"
      ]
    },
    {
      "attachments": {},
      "cell_type": "markdown",
      "metadata": {},
      "source": [
        "We see that we have reduced the total number of classes by about 800,\n",
        "but this is likely still too many.\n"
      ]
    },
    {
      "attachments": {},
      "cell_type": "markdown",
      "metadata": {},
      "source": [
        "## Reducing class count"
      ]
    },
    {
      "cell_type": "code",
      "execution_count": 14,
      "metadata": {
        "vscode": {
          "languageId": "python"
        }
      },
      "outputs": [
        {
          "name": "stdout",
          "output_type": "stream",
          "text": [
            "11315\n"
          ]
        }
      ],
      "source": [
        "db = DocBin().from_disk('data/data.spacy')\n",
        "docs = list(db.get_docs(trained.vocab))\n",
        "print(len(docs))"
      ]
    },
    {
      "cell_type": "code",
      "execution_count": 15,
      "metadata": {
        "vscode": {
          "languageId": "python"
        }
      },
      "outputs": [
        {
          "name": "stdout",
          "output_type": "stream",
          "text": [
            "Total classes:\t 9715\n",
            "Total classes with at least 2 examples:\t 1606\n"
          ]
        }
      ],
      "source": [
        "c = Counter()\n",
        "for s in (s for doc in docs for s in doc.spans['sc']):\n",
        "    c[s.label_] += 1\n",
        "print('Total classes:\\t', len(c))\n",
        "print('Total classes with at least 2 examples:\\t', len({k: v for k, v in c.items() if v >= 2}))"
      ]
    },
    {
      "cell_type": "code",
      "execution_count": 16,
      "metadata": {
        "vscode": {
          "languageId": "python"
        }
      },
      "outputs": [],
      "source": [
        "def count_ge_to(counts, n):\n",
        "    return [k for k, v in counts.items() if v >= n]"
      ]
    },
    {
      "attachments": {},
      "cell_type": "markdown",
      "metadata": {},
      "source": [
        "We see that the majority of links have few examples, and a minority\n",
        "are heavily used. Fortunately for this application, we can focus our\n",
        "efforts on classifying the most heavily used links, as those are the\n",
        "links which will most likely be needed again."
      ]
    },
    {
      "cell_type": "code",
      "execution_count": 17,
      "metadata": {
        "vscode": {
          "languageId": "python"
        }
      },
      "outputs": [
        {
          "name": "stdout",
          "output_type": "stream",
          "text": [
            "Number of classes with at least 0 example(s):\t9715\n",
            "Number of classes with at least 1 example(s):\t9715\n",
            "Number of classes with at least 2 example(s):\t1606\n",
            "Number of classes with at least 3 example(s):\t880\n",
            "Number of classes with at least 4 example(s):\t618\n",
            "Number of classes with at least 5 example(s):\t453\n",
            "Number of classes with at least 6 example(s):\t331\n",
            "Number of classes with at least 7 example(s):\t257\n",
            "Number of classes with at least 8 example(s):\t207\n",
            "Number of classes with at least 9 example(s):\t176\n",
            "Number of classes with at least 10 example(s):\t157\n",
            "Number of classes with at least 11 example(s):\t136\n",
            "Number of classes with at least 12 example(s):\t123\n",
            "Number of classes with at least 13 example(s):\t109\n",
            "Number of classes with at least 14 example(s):\t101\n",
            "Number of classes with at least 15 example(s):\t89\n",
            "Number of classes with at least 16 example(s):\t80\n",
            "Number of classes with at least 17 example(s):\t68\n",
            "Number of classes with at least 18 example(s):\t64\n",
            "Number of classes with at least 19 example(s):\t60\n",
            "Number of classes with at least 20 example(s):\t49\n",
            "Number of classes with at least 21 example(s):\t45\n",
            "Number of classes with at least 22 example(s):\t41\n",
            "Number of classes with at least 23 example(s):\t38\n",
            "Number of classes with at least 24 example(s):\t33\n",
            "Number of classes with at least 25 example(s):\t30\n",
            "Number of classes with at least 26 example(s):\t28\n",
            "Number of classes with at least 27 example(s):\t24\n",
            "Number of classes with at least 28 example(s):\t24\n",
            "Number of classes with at least 29 example(s):\t24\n",
            "Number of classes with at least 30 example(s):\t23\n",
            "Number of classes with at least 31 example(s):\t17\n",
            "Number of classes with at least 32 example(s):\t17\n",
            "Number of classes with at least 33 example(s):\t16\n",
            "Number of classes with at least 34 example(s):\t14\n",
            "Number of classes with at least 35 example(s):\t14\n",
            "Number of classes with at least 36 example(s):\t14\n",
            "Number of classes with at least 37 example(s):\t14\n",
            "Number of classes with at least 38 example(s):\t13\n",
            "Number of classes with at least 39 example(s):\t12\n",
            "Number of classes with at least 40 example(s):\t11\n",
            "Number of classes with at least 41 example(s):\t10\n",
            "Number of classes with at least 42 example(s):\t10\n",
            "Number of classes with at least 43 example(s):\t8\n",
            "Number of classes with at least 44 example(s):\t8\n",
            "Number of classes with at least 45 example(s):\t7\n",
            "Number of classes with at least 46 example(s):\t7\n",
            "Number of classes with at least 47 example(s):\t7\n",
            "Number of classes with at least 48 example(s):\t7\n",
            "Number of classes with at least 49 example(s):\t6\n"
          ]
        }
      ],
      "source": [
        "for n in range(50):\n",
        "    links = count_ge_to(c, n)\n",
        "    print(f'Number of classes with at least {n} example(s):', len(links), sep='\\t')"
      ]
    },
    {
      "attachments": {},
      "cell_type": "markdown",
      "metadata": {},
      "source": [
        "We can visualize the relationship between the number of examples and\n",
        "the number of classes:\n"
      ]
    },
    {
      "cell_type": "code",
      "execution_count": 18,
      "metadata": {
        "vscode": {
          "languageId": "python"
        }
      },
      "outputs": [
        {
          "data": {
            "image/png": "[encoded data removed]",
            "text/plain": [
              "<Figure size 640x480 with 1 Axes>"
            ]
          },
          "metadata": {},
          "output_type": "display_data"
        }
      ],
      "source": [
        "import matplotlib.pyplot as plt\n",
        "\n",
        "fig, ax = plt.subplots()\n",
        "x = range(50)\n",
        "ax.plot(x, [len(count_ge_to(c, n)) for n in x])\n",
        "ax.set_xlabel('Num examples')\n",
        "ax.set_ylabel('Num classes')\n",
        "plt.ylim([0, 800])\n",
        "fig.tight_layout()\n",
        "plt.savefig('images/numclasses.png')\n",
        "plt.show()"
      ]
    },
    {
      "attachments": {},
      "cell_type": "markdown",
      "metadata": {},
      "source": [
        "## Train/test splitting\n"
      ]
    },
    {
      "attachments": {},
      "cell_type": "markdown",
      "metadata": {},
      "source": [
        "We can make preprocessed data splits using:\n",
        "\n",
        "    python train_test_split.py data/ <min_examples> <test_size>\n",
        "\n",
        "This script is a tool to split the data while trying to keep a good\n",
        "amount of examples in the training and test sets, but it's not\n",
        "perfect.\n",
        "\n",
        "We'll explore which data set provides the best balance between number\n",
        "of classes and number of examples in the test and train sets.\n"
      ]
    },
    {
      "cell_type": "code",
      "execution_count": 20,
      "metadata": {
        "vscode": {
          "languageId": "python"
        }
      },
      "outputs": [],
      "source": [
        "def show_data_summary(docs, desired_examples, show_classes):\n",
        "    totals = Counter(s.label_ for doc in docs for s in doc.spans['sc'])\n",
        "    counts = pd.DataFrame([{'count': count, 'link': link} for link, count in totals.items()])\n",
        "    counts = counts.set_index('link')\n",
        "    print('Total classes:\\t', len(totals))\n",
        "    print(f'Total classes with desired number of examples ({desired_examples}):\\t',\n",
        "          len({k: v for k, v in totals.items() if v >= desired_examples}))\n",
        "    if show_classes:\n",
        "        print('Classes:', sorted([(v, k) for k, v in totals.items()], reverse=True))\n",
        "    return counts"
      ]
    },
    {
      "cell_type": "code",
      "execution_count": 29,
      "metadata": {
        "vscode": {
          "languageId": "python"
        }
      },
      "outputs": [],
      "source": [
        "def summarize_data_split(min_examples, test_size, show_classes=False):\n",
        "    train_path = os.path.join('data', 'split', f'train-{min_examples}-{test_size*100:.0f}.spacy')\n",
        "    test_path = os.path.join('data', 'split', f'test-{min_examples}-{test_size*100:.0f}.spacy')\n",
        "    train_data = list(DocBin().from_disk(train_path).get_docs(trained.vocab))\n",
        "    test_data = list(DocBin().from_disk(test_path).get_docs(trained.vocab))\n",
        "    print('Min examples:', min_examples, '| Test size:', test_size, f'| Train/test counts: {len(train_data)}/{len(test_data)}')\n",
        "    print('(train)')\n",
        "    train_summary = show_data_summary(train_data, int(min_examples*(1-test_size)), show_classes)\n",
        "    print('(test)')\n",
        "    test_summary = show_data_summary(test_data, int(min_examples*test_size), show_classes)\n",
        "\n",
        "    print('Training and testing classes are the same:', set(train_summary.index) == set(test_summary.index))\n",
        "    print()\n",
        "    train_summary = train_summary.rename(columns={'count': 'train_count'})\n",
        "    train_summary['test_count'] = test_summary['count']\n",
        "    return train_data, test_data, train_summary"
      ]
    },
    {
      "cell_type": "code",
      "execution_count": 30,
      "metadata": {
        "vscode": {
          "languageId": "python"
        }
      },
      "outputs": [
        {
          "name": "stdout",
          "output_type": "stream",
          "text": [
            "Min examples: 5 | Test size: 0.33 | Train/test counts: 1113/398\n",
            "(train)\n",
            "Total classes:\t 453\n",
            "Total classes with desired number of examples (3):\t 453\n",
            "(test)\n",
            "Total classes:\t 453\n",
            "Total classes with desired number of examples (1):\t 453\n",
            "Training and testing classes are the same: True\n",
            "\n",
            "Min examples: 10 | Test size: 0.33 | Train/test counts: 933/417\n",
            "(train)\n",
            "Total classes:\t 157\n",
            "Total classes with desired number of examples (6):\t 157\n",
            "(test)\n",
            "Total classes:\t 157\n",
            "Total classes with desired number of examples (3):\t 157\n",
            "Training and testing classes are the same: True\n",
            "\n",
            "Min examples: 15 | Test size: 0.33 | Train/test counts: 786/406\n",
            "(train)\n",
            "Total classes:\t 89\n",
            "Total classes with desired number of examples (10):\t 89\n",
            "(test)\n",
            "Total classes:\t 89\n",
            "Total classes with desired number of examples (4):\t 89\n",
            "Training and testing classes are the same: True\n",
            "\n",
            "Min examples: 20 | Test size: 0.33 | Train/test counts: 584/274\n",
            "(train)\n",
            "Total classes:\t 49\n",
            "Total classes with desired number of examples (13):\t 49\n",
            "(test)\n",
            "Total classes:\t 49\n",
            "Total classes with desired number of examples (6):\t 49\n",
            "Training and testing classes are the same: True\n",
            "\n",
            "Min examples: 25 | Test size: 0.33 | Train/test counts: 472/227\n",
            "(train)\n",
            "Total classes:\t 30\n",
            "Total classes with desired number of examples (16):\t 30\n",
            "(test)\n",
            "Total classes:\t 30\n",
            "Total classes with desired number of examples (8):\t 30\n",
            "Training and testing classes are the same: True\n",
            "\n",
            "Min examples: 30 | Test size: 0.33 | Train/test counts: 428/218\n",
            "(train)\n",
            "Total classes:\t 23\n",
            "Total classes with desired number of examples (20):\t 23\n",
            "(test)\n",
            "Total classes:\t 23\n",
            "Total classes with desired number of examples (9):\t 23\n",
            "Training and testing classes are the same: True\n",
            "\n"
          ]
        }
      ],
      "source": [
        "for m in [5, 10, 15, 20, 25, 30]:\n",
        "    summarize_data_split(m, 0.33)"
      ]
    },
    {
      "cell_type": "code",
      "execution_count": 31,
      "metadata": {
        "vscode": {
          "languageId": "python"
        }
      },
      "outputs": [
        {
          "name": "stdout",
          "output_type": "stream",
          "text": [
            "Min examples: 5 | Test size: 0.1 | Train/test counts: 1505/374\n",
            "(train)\n",
            "Total classes:\t 453\n",
            "Total classes with desired number of examples (4):\t 453\n",
            "(test)\n",
            "Total classes:\t 387\n",
            "Total classes with desired number of examples (0):\t 387\n",
            "Training and testing classes are the same: False\n",
            "\n",
            "Min examples: 10 | Test size: 0.1 | Train/test counts: 1213/149\n",
            "(train)\n",
            "Total classes:\t 157\n",
            "Total classes with desired number of examples (9):\t 157\n",
            "(test)\n",
            "Total classes:\t 157\n",
            "Total classes with desired number of examples (1):\t 157\n",
            "Training and testing classes are the same: True\n",
            "\n",
            "Min examples: 15 | Test size: 0.1 | Train/test counts: 1030/86\n",
            "(train)\n",
            "Total classes:\t 89\n",
            "Total classes with desired number of examples (13):\t 89\n",
            "(test)\n",
            "Total classes:\t 89\n",
            "Total classes with desired number of examples (1):\t 89\n",
            "Training and testing classes are the same: True\n",
            "\n",
            "Min examples: 20 | Test size: 0.1 | Train/test counts: 806/93\n",
            "(train)\n",
            "Total classes:\t 49\n",
            "Total classes with desired number of examples (18):\t 49\n",
            "(test)\n",
            "Total classes:\t 49\n",
            "Total classes with desired number of examples (2):\t 49\n",
            "Training and testing classes are the same: True\n",
            "\n",
            "Min examples: 25 | Test size: 0.1 | Train/test counts: 612/88\n",
            "(train)\n",
            "Total classes:\t 30\n",
            "Total classes with desired number of examples (22):\t 30\n",
            "(test)\n",
            "Total classes:\t 30\n",
            "Total classes with desired number of examples (2):\t 30\n",
            "Training and testing classes are the same: True\n",
            "\n",
            "Min examples: 30 | Test size: 0.1 | Train/test counts: 577/69\n",
            "(train)\n",
            "Total classes:\t 23\n",
            "Total classes with desired number of examples (27):\t 23\n",
            "(test)\n",
            "Total classes:\t 23\n",
            "Total classes with desired number of examples (3):\t 23\n",
            "Training and testing classes are the same: True\n",
            "\n"
          ]
        }
      ],
      "source": [
        "for m in [5, 10, 15, 20, 25, 30]:\n",
        "    summarize_data_split(m, 0.1)"
      ]
    },
    {
      "cell_type": "code",
      "execution_count": 32,
      "metadata": {
        "vscode": {
          "languageId": "python"
        }
      },
      "outputs": [
        {
          "name": "stdout",
          "output_type": "stream",
          "text": [
            "Min examples: 5 | Test size: 0.15 | Train/test counts: 1138/427\n",
            "(train)\n",
            "Total classes:\t 453\n",
            "Total classes with desired number of examples (4):\t 12\n",
            "(test)\n",
            "Total classes:\t 452\n",
            "Total classes with desired number of examples (0):\t 452\n",
            "Training and testing classes are the same: False\n",
            "\n",
            "Min examples: 10 | Test size: 0.15 | Train/test counts: 1080/136\n",
            "(train)\n",
            "Total classes:\t 157\n",
            "Total classes with desired number of examples (8):\t 157\n",
            "(test)\n",
            "Total classes:\t 157\n",
            "Total classes with desired number of examples (1):\t 157\n",
            "Training and testing classes are the same: True\n",
            "\n",
            "Min examples: 15 | Test size: 0.15 | Train/test counts: 1038/160\n",
            "(train)\n",
            "Total classes:\t 89\n",
            "Total classes with desired number of examples (12):\t 89\n",
            "(test)\n",
            "Total classes:\t 89\n",
            "Total classes with desired number of examples (2):\t 89\n",
            "Training and testing classes are the same: True\n",
            "\n",
            "Min examples: 20 | Test size: 0.15 | Train/test counts: 766/139\n",
            "(train)\n",
            "Total classes:\t 49\n",
            "Total classes with desired number of examples (17):\t 49\n",
            "(test)\n",
            "Total classes:\t 49\n",
            "Total classes with desired number of examples (3):\t 49\n",
            "Training and testing classes are the same: True\n",
            "\n",
            "Min examples: 25 | Test size: 0.15 | Train/test counts: 586/114\n",
            "(train)\n",
            "Total classes:\t 30\n",
            "Total classes with desired number of examples (21):\t 30\n",
            "(test)\n",
            "Total classes:\t 30\n",
            "Total classes with desired number of examples (3):\t 30\n",
            "Training and testing classes are the same: True\n",
            "\n",
            "Min examples: 30 | Test size: 0.15 | Train/test counts: 534/90\n",
            "(train)\n",
            "Total classes:\t 23\n",
            "Total classes with desired number of examples (25):\t 23\n",
            "(test)\n",
            "Total classes:\t 23\n",
            "Total classes with desired number of examples (4):\t 23\n",
            "Training and testing classes are the same: True\n",
            "\n"
          ]
        }
      ],
      "source": [
        "for m in [5, 10, 15, 20, 25, 30]:\n",
        "    summarize_data_split(m, 0.15)"
      ]
    },
    {
      "cell_type": "code",
      "execution_count": 35,
      "metadata": {
        "vscode": {
          "languageId": "python"
        }
      },
      "outputs": [
        {
          "name": "stdout",
          "output_type": "stream",
          "text": [
            "Min examples: 15 | Test size: 0.33 | Train/test counts: 786/406\n",
            "(train)\n",
            "Total classes:\t 89\n",
            "Total classes with desired number of examples (10):\t 89\n",
            "(test)\n",
            "Total classes:\t 89\n",
            "Total classes with desired number of examples (4):\t 89\n",
            "Training and testing classes are the same: True\n",
            "\n"
          ]
        }
      ],
      "source": [
        "train_data, test_data, data_summary = summarize_data_split(15, 0.33)"
      ]
    },
    {
      "cell_type": "code",
      "execution_count": 36,
      "metadata": {
        "vscode": {
          "languageId": "python"
        }
      },
      "outputs": [
        {
          "data": {
            "text/html": [
              "<div>\n",
              "<style scoped>\n",
              "    .dataframe tbody tr th:only-of-type {\n",
              "        vertical-align: middle;\n",
              "    }\n",
              "\n",
              "    .dataframe tbody tr th {\n",
              "        vertical-align: top;\n",
              "    }\n",
              "\n",
              "    .dataframe thead th {\n",
              "        text-align: right;\n",
              "    }\n",
              "</style>\n",
              "<table border=\"1\" class=\"dataframe\">\n",
              "  <thead>\n",
              "    <tr style=\"text-align: right;\">\n",
              "      <th></th>\n",
              "      <th>train_count</th>\n",
              "      <th>test_count</th>\n",
              "    </tr>\n",
              "  </thead>\n",
              "  <tbody>\n",
              "    <tr>\n",
              "      <th>count</th>\n",
              "      <td>89.0</td>\n",
              "      <td>89.0</td>\n",
              "    </tr>\n",
              "    <tr>\n",
              "      <th>mean</th>\n",
              "      <td>10.0</td>\n",
              "      <td>5.0</td>\n",
              "    </tr>\n",
              "    <tr>\n",
              "      <th>std</th>\n",
              "      <td>0.0</td>\n",
              "      <td>0.0</td>\n",
              "    </tr>\n",
              "    <tr>\n",
              "      <th>min</th>\n",
              "      <td>10.0</td>\n",
              "      <td>5.0</td>\n",
              "    </tr>\n",
              "    <tr>\n",
              "      <th>25%</th>\n",
              "      <td>10.0</td>\n",
              "      <td>5.0</td>\n",
              "    </tr>\n",
              "    <tr>\n",
              "      <th>50%</th>\n",
              "      <td>10.0</td>\n",
              "      <td>5.0</td>\n",
              "    </tr>\n",
              "    <tr>\n",
              "      <th>75%</th>\n",
              "      <td>10.0</td>\n",
              "      <td>5.0</td>\n",
              "    </tr>\n",
              "    <tr>\n",
              "      <th>max</th>\n",
              "      <td>10.0</td>\n",
              "      <td>5.0</td>\n",
              "    </tr>\n",
              "  </tbody>\n",
              "</table>\n",
              "</div>"
            ],
            "text/plain": [
              "       train_count  test_count\n",
              "count         89.0        89.0\n",
              "mean          10.0         5.0\n",
              "std            0.0         0.0\n",
              "min           10.0         5.0\n",
              "25%           10.0         5.0\n",
              "50%           10.0         5.0\n",
              "75%           10.0         5.0\n",
              "max           10.0         5.0"
            ]
          },
          "execution_count": 36,
          "metadata": {},
          "output_type": "execute_result"
        }
      ],
      "source": [
        "data_summary.describe()"
      ]
    },
    {
      "cell_type": "code",
      "execution_count": 227,
      "metadata": {
        "vscode": {
          "languageId": "python"
        }
      },
      "outputs": [
        {
          "data": {
            "text/plain": [
              "(786, 406)"
            ]
          },
          "execution_count": 227,
          "metadata": {},
          "output_type": "execute_result"
        }
      ],
      "source": [
        "def manual_balance(X):\n",
        "    totals = Counter(s.label_ for doc in X for s in doc.spans['sc'])\n",
        "    summary = pd.DataFrame([{\n",
        "        'count': count,\n",
        "        'link': link\n",
        "    } for link, count in totals.items()])\n",
        "    summary = summary.set_index('link')\n",
        "    min_count = summary.min()['count']\n",
        "    summary['count_r'] = summary['count']\n",
        "    Xb = []\n",
        "    for doc in X:\n",
        "        spans = doc.spans['sc']\n",
        "        if len(spans) == 0:\n",
        "            continue\n",
        "        counts = Counter(s.label_ for s in spans)\n",
        "        count_r = summary['count_r'].loc[list(counts.keys())]\n",
        "        df = pd.DataFrame([{\n",
        "            'link': k,\n",
        "            'count_r': c\n",
        "        } for k, c in counts.items()]).set_index('link')\n",
        "        count_r -= df['count_r']\n",
        "        if all(count_r >= min_count):\n",
        "            summary['count_r'].loc[count_r.index] = count_r\n",
        "        else:\n",
        "            Xb.append(doc)\n",
        "    return Xb, summary\n",
        "    \n",
        "X_train, train_r_summary = manual_balance(train_data)\n",
        "X_test, test_r_summary = manual_balance(test_data)\n",
        "len(X_train), len(X_test)"
      ]
    },
    {
      "cell_type": "code",
      "execution_count": 224,
      "metadata": {
        "vscode": {
          "languageId": "python"
        }
      },
      "outputs": [
        {
          "data": {
            "text/html": [
              "<div>\n",
              "<style scoped>\n",
              "    .dataframe tbody tr th:only-of-type {\n",
              "        vertical-align: middle;\n",
              "    }\n",
              "\n",
              "    .dataframe tbody tr th {\n",
              "        vertical-align: top;\n",
              "    }\n",
              "\n",
              "    .dataframe thead th {\n",
              "        text-align: right;\n",
              "    }\n",
              "</style>\n",
              "<table border=\"1\" class=\"dataframe\">\n",
              "  <thead>\n",
              "    <tr style=\"text-align: right;\">\n",
              "      <th></th>\n",
              "      <th>count</th>\n",
              "      <th>count_r</th>\n",
              "    </tr>\n",
              "  </thead>\n",
              "  <tbody>\n",
              "    <tr>\n",
              "      <th>count</th>\n",
              "      <td>89.000000</td>\n",
              "      <td>89.0</td>\n",
              "    </tr>\n",
              "    <tr>\n",
              "      <th>mean</th>\n",
              "      <td>18.191011</td>\n",
              "      <td>10.0</td>\n",
              "    </tr>\n",
              "    <tr>\n",
              "      <th>std</th>\n",
              "      <td>14.185361</td>\n",
              "      <td>0.0</td>\n",
              "    </tr>\n",
              "    <tr>\n",
              "      <th>min</th>\n",
              "      <td>10.000000</td>\n",
              "      <td>10.0</td>\n",
              "    </tr>\n",
              "    <tr>\n",
              "      <th>25%</th>\n",
              "      <td>11.000000</td>\n",
              "      <td>10.0</td>\n",
              "    </tr>\n",
              "    <tr>\n",
              "      <th>50%</th>\n",
              "      <td>14.000000</td>\n",
              "      <td>10.0</td>\n",
              "    </tr>\n",
              "    <tr>\n",
              "      <th>75%</th>\n",
              "      <td>19.000000</td>\n",
              "      <td>10.0</td>\n",
              "    </tr>\n",
              "    <tr>\n",
              "      <th>max</th>\n",
              "      <td>117.000000</td>\n",
              "      <td>10.0</td>\n",
              "    </tr>\n",
              "  </tbody>\n",
              "</table>\n",
              "</div>"
            ],
            "text/plain": [
              "            count  count_r\n",
              "count   89.000000     89.0\n",
              "mean    18.191011     10.0\n",
              "std     14.185361      0.0\n",
              "min     10.000000     10.0\n",
              "25%     11.000000     10.0\n",
              "50%     14.000000     10.0\n",
              "75%     19.000000     10.0\n",
              "max    117.000000     10.0"
            ]
          },
          "execution_count": 224,
          "metadata": {},
          "output_type": "execute_result"
        }
      ],
      "source": [
        "train_r_summary.describe()"
      ]
    },
    {
      "cell_type": "code",
      "execution_count": 225,
      "metadata": {
        "vscode": {
          "languageId": "python"
        }
      },
      "outputs": [
        {
          "data": {
            "text/html": [
              "<div>\n",
              "<style scoped>\n",
              "    .dataframe tbody tr th:only-of-type {\n",
              "        vertical-align: middle;\n",
              "    }\n",
              "\n",
              "    .dataframe tbody tr th {\n",
              "        vertical-align: top;\n",
              "    }\n",
              "\n",
              "    .dataframe thead th {\n",
              "        text-align: right;\n",
              "    }\n",
              "</style>\n",
              "<table border=\"1\" class=\"dataframe\">\n",
              "  <thead>\n",
              "    <tr style=\"text-align: right;\">\n",
              "      <th></th>\n",
              "      <th>count</th>\n",
              "      <th>count_r</th>\n",
              "    </tr>\n",
              "  </thead>\n",
              "  <tbody>\n",
              "    <tr>\n",
              "      <th>count</th>\n",
              "      <td>89.000000</td>\n",
              "      <td>89.0</td>\n",
              "    </tr>\n",
              "    <tr>\n",
              "      <th>mean</th>\n",
              "      <td>9.000000</td>\n",
              "      <td>5.0</td>\n",
              "    </tr>\n",
              "    <tr>\n",
              "      <th>std</th>\n",
              "      <td>6.969088</td>\n",
              "      <td>0.0</td>\n",
              "    </tr>\n",
              "    <tr>\n",
              "      <th>min</th>\n",
              "      <td>5.000000</td>\n",
              "      <td>5.0</td>\n",
              "    </tr>\n",
              "    <tr>\n",
              "      <th>25%</th>\n",
              "      <td>6.000000</td>\n",
              "      <td>5.0</td>\n",
              "    </tr>\n",
              "    <tr>\n",
              "      <th>50%</th>\n",
              "      <td>7.000000</td>\n",
              "      <td>5.0</td>\n",
              "    </tr>\n",
              "    <tr>\n",
              "      <th>75%</th>\n",
              "      <td>10.000000</td>\n",
              "      <td>5.0</td>\n",
              "    </tr>\n",
              "    <tr>\n",
              "      <th>max</th>\n",
              "      <td>57.000000</td>\n",
              "      <td>5.0</td>\n",
              "    </tr>\n",
              "  </tbody>\n",
              "</table>\n",
              "</div>"
            ],
            "text/plain": [
              "           count  count_r\n",
              "count  89.000000     89.0\n",
              "mean    9.000000      5.0\n",
              "std     6.969088      0.0\n",
              "min     5.000000      5.0\n",
              "25%     6.000000      5.0\n",
              "50%     7.000000      5.0\n",
              "75%    10.000000      5.0\n",
              "max    57.000000      5.0"
            ]
          },
          "execution_count": 225,
          "metadata": {},
          "output_type": "execute_result"
        }
      ],
      "source": [
        "test_r_summary.describe()"
      ]
    },
    {
      "attachments": {},
      "cell_type": "markdown",
      "metadata": {},
      "source": [
        "## Removing duplicates\n"
      ]
    },
    {
      "cell_type": "code",
      "execution_count": 1,
      "metadata": {
        "vscode": {
          "languageId": "python"
        }
      },
      "outputs": [
        {
          "name": "stdout",
          "output_type": "stream",
          "text": [
            "386 3860"
          ]
        }
      ],
      "source": [
        "test_db = DocBin().from_disk('data/iter6/test.spacy')\n",
        "train_db = DocBin().from_disk('data/iter6/train.spacy')\n",
        "test_docs = list(test_db.get_docs(trained.vocab))\n",
        "train_docs = list(train_db.get_docs(trained.vocab))\n",
        "print(len(test_docs), len(train_docs))"
      ]
    },
    {
      "cell_type": "code",
      "execution_count": 1,
      "metadata": {
        "vscode": {
          "languageId": "python"
        }
      },
      "outputs": [],
      "source": [
        "def remove_duplicates(docs, seen):\n",
        "    new_docs = []\n",
        "    for i, doc in enumerate(docs):\n",
        "        # print('Doc:', i)\n",
        "        spans = doc.spans['sc']\n",
        "        spans_set = set(spans)\n",
        "        spans_used = set()\n",
        "        no_duplicates = True\n",
        "        for tokens in sliding_window(doc, 8):\n",
        "            ts = (' '.join(t.text.strip() for t in tokens)).lower()\n",
        "            all_spans_used = False\n",
        "            for span in filter(lambda s: any(t in s for t in tokens), spans):\n",
        "                if (ts, span.label) in seen:\n",
        "                    # print('Duplicate found:', ts)\n",
        "                    no_duplicates = False\n",
        "                    all_spans_used = spans_used == spans_set\n",
        "                else:\n",
        "                    seen.add((ts, span.label))\n",
        "                    spans_used.add(span)\n",
        "            if all_spans_used:\n",
        "                break\n",
        "        if no_duplicates:\n",
        "            new_docs.append(doc)\n",
        "    return new_docs, seen"
      ]
    },
    {
      "cell_type": "code",
      "execution_count": 1,
      "metadata": {
        "vscode": {
          "languageId": "python"
        }
      },
      "outputs": [
        {
          "name": "stdout",
          "output_type": "stream",
          "text": [
            "386 259"
          ]
        }
      ],
      "source": [
        "seen = set()\n",
        "new_test_docs, seen = remove_duplicates(test_docs, seen)\n",
        "print(len(test_docs), len(new_test_docs))"
      ]
    },
    {
      "cell_type": "code",
      "execution_count": 1,
      "metadata": {
        "vscode": {
          "languageId": "python"
        }
      },
      "outputs": [
        {
          "name": "stdout",
          "output_type": "stream",
          "text": [
            "3860 1341"
          ]
        }
      ],
      "source": [
        "new_train_docs, seen = remove_duplicates(train_docs, seen)\n",
        "print(len(train_docs), len(new_train_docs))"
      ]
    },
    {
      "cell_type": "code",
      "execution_count": 1,
      "metadata": {
        "vscode": {
          "languageId": "python"
        }
      },
      "outputs": [],
      "source": [
        "def show_docs_summary(docs, desired_examples, show_classes):\n",
        "    totals = defaultdict(int)\n",
        "    for link in (s.label_ for d in docs for s in d.spans['sc']):\n",
        "        totals[link] += 1\n",
        "    print('Total classes:\\t', len(totals))\n",
        "    print('Total classes with desired number of examples:\\t', len({k: v for k, v in totals.items() if v >= desired_examples}))\n",
        "    if show_classes:\n",
        "        print('Classes:', sorted([(v, k) for k, v in totals.items()], reverse=True))\n",
        "    return len(totals)"
      ]
    },
    {
      "cell_type": "code",
      "execution_count": 1,
      "metadata": {
        "vscode": {
          "languageId": "python"
        }
      },
      "outputs": [],
      "source": [
        "def summarize_docs_split(train_docs, test_docs, show_classes=False):\n",
        "    print(f'Train/test counts: {len(train_docs)}/{len(test_docs)}')\n",
        "    print('(train)')\n",
        "    trainclasses = show_docs_summary(train_docs, 2, show_classes)\n",
        "    print('(test)')\n",
        "    testclasses = show_docs_summary(test_docs, 1, show_classes)\n",
        "    print('Num classes with no test examples:', trainclasses - testclasses)\n",
        "    print()"
      ]
    },
    {
      "cell_type": "code",
      "execution_count": 1,
      "metadata": {
        "vscode": {
          "languageId": "python"
        }
      },
      "outputs": [
        {
          "name": "stdout",
          "output_type": "stream",
          "text": [
            "#+begin_example\n",
            "Min examples: 30 | Test size: 0.05 | Train/test counts: 947/49\n",
            "(train)\n",
            "Total classes:\t 69\n",
            "Total classes with desired number of examples:\t 69\n",
            "(test)\n",
            "Total classes:\t 69\n",
            "Total classes with desired number of examples:\t 59\n",
            "Num classes with no test examples: 0\n",
            "\n",
            "\n",
            "Train/test counts: 1341/259\n",
            "(train)\n",
            "Total classes:\t 60\n",
            "Total classes with desired number of examples:\t 59\n",
            "(test)\n",
            "Total classes:\t 63\n",
            "Total classes with desired number of examples:\t 63\n",
            "Num classes with no test examples: -3\n",
            "\n",
            "Train/test counts: 3860/386\n",
            "(train)\n",
            "Total classes:\t 69\n",
            "Total classes with desired number of examples:\t 69\n",
            "(test)\n",
            "Total classes:\t 63\n",
            "Total classes with desired number of examples:\t 63\n",
            "Num classes with no test examples: 6\n",
            "#+end_example"
          ]
        }
      ],
      "source": [
        "summarize_data_split(30, 0.05)\n",
        "print()\n",
        "summarize_docs_split(new_train_docs, new_test_docs)\n",
        "summarize_docs_split(train_docs, test_docs)"
      ]
    },
    {
      "cell_type": "code",
      "execution_count": 1,
      "metadata": {
        "vscode": {
          "languageId": "python"
        }
      },
      "outputs": [],
      "source": [
        "def make_db(docs, name):\n",
        "    db = DocBin()\n",
        "    for doc in docs:\n",
        "        db.add(doc)\n",
        "    db.to_disk(f'{name}.spacy')"
      ]
    },
    {
      "cell_type": "code",
      "execution_count": 1,
      "metadata": {
        "vscode": {
          "languageId": "python"
        }
      },
      "outputs": [],
      "source": [
        "make_db(new_train_docs, 'train-no-dups')\n",
        "make_db(new_test_docs, 'test-no-dups')"
      ]
    }
  ],
  "metadata": [
    [
      "org"
    ],
    null,
    null
  ],
  "nbformat": 4,
  "nbformat_minor": 0
}
